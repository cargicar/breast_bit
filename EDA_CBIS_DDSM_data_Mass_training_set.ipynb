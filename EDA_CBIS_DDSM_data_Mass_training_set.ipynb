{
 "cells": [
  {
   "cell_type": "markdown",
   "id": "98e98897",
   "metadata": {},
   "source": [
    "# Data Exploration\n",
    "In this notebook, we will be exploring the CBIS-DDSM Mass_training data set. \n",
    "\n",
    "Lets start looking some pictures"
   ]
  },
  {
   "cell_type": "code",
   "execution_count": 1,
   "id": "5e46e06b",
   "metadata": {},
   "outputs": [],
   "source": [
    "import pandas as pd\n",
    "import os"
   ]
  },
  {
   "cell_type": "markdown",
   "id": "392d2912",
   "metadata": {},
   "source": [
    "### Mass training full"
   ]
  },
  {
   "cell_type": "code",
   "execution_count": 2,
   "id": "d6e492c6",
   "metadata": {},
   "outputs": [
    {
     "data": {
      "text/html": [
       "<div>\n",
       "<style scoped>\n",
       "    .dataframe tbody tr th:only-of-type {\n",
       "        vertical-align: middle;\n",
       "    }\n",
       "\n",
       "    .dataframe tbody tr th {\n",
       "        vertical-align: top;\n",
       "    }\n",
       "\n",
       "    .dataframe thead th {\n",
       "        text-align: right;\n",
       "    }\n",
       "</style>\n",
       "<table border=\"1\" class=\"dataframe\">\n",
       "  <thead>\n",
       "    <tr style=\"text-align: right;\">\n",
       "      <th></th>\n",
       "      <th>patient_id</th>\n",
       "      <th>breast_density</th>\n",
       "      <th>left or right breast</th>\n",
       "      <th>image view</th>\n",
       "      <th>abnormality id</th>\n",
       "      <th>abnormality type</th>\n",
       "      <th>mass shape</th>\n",
       "      <th>mass margins</th>\n",
       "      <th>assessment</th>\n",
       "      <th>pathology</th>\n",
       "      <th>subtlety</th>\n",
       "      <th>image file path</th>\n",
       "      <th>cropped image file path</th>\n",
       "      <th>ROI mask file path</th>\n",
       "    </tr>\n",
       "  </thead>\n",
       "  <tbody>\n",
       "    <tr>\n",
       "      <th>0</th>\n",
       "      <td>P_00001</td>\n",
       "      <td>3</td>\n",
       "      <td>LEFT</td>\n",
       "      <td>CC</td>\n",
       "      <td>1</td>\n",
       "      <td>mass</td>\n",
       "      <td>IRREGULAR-ARCHITECTURAL_DISTORTION</td>\n",
       "      <td>SPICULATED</td>\n",
       "      <td>4</td>\n",
       "      <td>MALIGNANT</td>\n",
       "      <td>4</td>\n",
       "      <td>Mass-Training_P_00001_LEFT_CC/1.3.6.1.4.1.9590...</td>\n",
       "      <td>Mass-Training_P_00001_LEFT_CC_1/1.3.6.1.4.1.95...</td>\n",
       "      <td>Mass-Training_P_00001_LEFT_CC_1/1.3.6.1.4.1.95...</td>\n",
       "    </tr>\n",
       "    <tr>\n",
       "      <th>1</th>\n",
       "      <td>P_00001</td>\n",
       "      <td>3</td>\n",
       "      <td>LEFT</td>\n",
       "      <td>MLO</td>\n",
       "      <td>1</td>\n",
       "      <td>mass</td>\n",
       "      <td>IRREGULAR-ARCHITECTURAL_DISTORTION</td>\n",
       "      <td>SPICULATED</td>\n",
       "      <td>4</td>\n",
       "      <td>MALIGNANT</td>\n",
       "      <td>4</td>\n",
       "      <td>Mass-Training_P_00001_LEFT_MLO/1.3.6.1.4.1.959...</td>\n",
       "      <td>Mass-Training_P_00001_LEFT_MLO_1/1.3.6.1.4.1.9...</td>\n",
       "      <td>Mass-Training_P_00001_LEFT_MLO_1/1.3.6.1.4.1.9...</td>\n",
       "    </tr>\n",
       "    <tr>\n",
       "      <th>2</th>\n",
       "      <td>P_00004</td>\n",
       "      <td>3</td>\n",
       "      <td>LEFT</td>\n",
       "      <td>CC</td>\n",
       "      <td>1</td>\n",
       "      <td>mass</td>\n",
       "      <td>ARCHITECTURAL_DISTORTION</td>\n",
       "      <td>ILL_DEFINED</td>\n",
       "      <td>4</td>\n",
       "      <td>BENIGN</td>\n",
       "      <td>3</td>\n",
       "      <td>Mass-Training_P_00004_LEFT_CC/1.3.6.1.4.1.9590...</td>\n",
       "      <td>Mass-Training_P_00004_LEFT_CC_1/1.3.6.1.4.1.95...</td>\n",
       "      <td>Mass-Training_P_00004_LEFT_CC_1/1.3.6.1.4.1.95...</td>\n",
       "    </tr>\n",
       "    <tr>\n",
       "      <th>3</th>\n",
       "      <td>P_00004</td>\n",
       "      <td>3</td>\n",
       "      <td>LEFT</td>\n",
       "      <td>MLO</td>\n",
       "      <td>1</td>\n",
       "      <td>mass</td>\n",
       "      <td>ARCHITECTURAL_DISTORTION</td>\n",
       "      <td>ILL_DEFINED</td>\n",
       "      <td>4</td>\n",
       "      <td>BENIGN</td>\n",
       "      <td>3</td>\n",
       "      <td>Mass-Training_P_00004_LEFT_MLO/1.3.6.1.4.1.959...</td>\n",
       "      <td>Mass-Training_P_00004_LEFT_MLO_1/1.3.6.1.4.1.9...</td>\n",
       "      <td>Mass-Training_P_00004_LEFT_MLO_1/1.3.6.1.4.1.9...</td>\n",
       "    </tr>\n",
       "    <tr>\n",
       "      <th>4</th>\n",
       "      <td>P_00004</td>\n",
       "      <td>3</td>\n",
       "      <td>RIGHT</td>\n",
       "      <td>MLO</td>\n",
       "      <td>1</td>\n",
       "      <td>mass</td>\n",
       "      <td>OVAL</td>\n",
       "      <td>CIRCUMSCRIBED</td>\n",
       "      <td>4</td>\n",
       "      <td>BENIGN</td>\n",
       "      <td>5</td>\n",
       "      <td>Mass-Training_P_00004_RIGHT_MLO/1.3.6.1.4.1.95...</td>\n",
       "      <td>Mass-Training_P_00004_RIGHT_MLO_1/1.3.6.1.4.1....</td>\n",
       "      <td>Mass-Training_P_00004_RIGHT_MLO_1/1.3.6.1.4.1....</td>\n",
       "    </tr>\n",
       "  </tbody>\n",
       "</table>\n",
       "</div>"
      ],
      "text/plain": [
       "  patient_id  breast_density left or right breast image view  abnormality id  \\\n",
       "0    P_00001               3                 LEFT         CC               1   \n",
       "1    P_00001               3                 LEFT        MLO               1   \n",
       "2    P_00004               3                 LEFT         CC               1   \n",
       "3    P_00004               3                 LEFT        MLO               1   \n",
       "4    P_00004               3                RIGHT        MLO               1   \n",
       "\n",
       "  abnormality type                          mass shape   mass margins  \\\n",
       "0             mass  IRREGULAR-ARCHITECTURAL_DISTORTION     SPICULATED   \n",
       "1             mass  IRREGULAR-ARCHITECTURAL_DISTORTION     SPICULATED   \n",
       "2             mass            ARCHITECTURAL_DISTORTION    ILL_DEFINED   \n",
       "3             mass            ARCHITECTURAL_DISTORTION    ILL_DEFINED   \n",
       "4             mass                                OVAL  CIRCUMSCRIBED   \n",
       "\n",
       "   assessment  pathology  subtlety  \\\n",
       "0           4  MALIGNANT         4   \n",
       "1           4  MALIGNANT         4   \n",
       "2           4     BENIGN         3   \n",
       "3           4     BENIGN         3   \n",
       "4           4     BENIGN         5   \n",
       "\n",
       "                                     image file path  \\\n",
       "0  Mass-Training_P_00001_LEFT_CC/1.3.6.1.4.1.9590...   \n",
       "1  Mass-Training_P_00001_LEFT_MLO/1.3.6.1.4.1.959...   \n",
       "2  Mass-Training_P_00004_LEFT_CC/1.3.6.1.4.1.9590...   \n",
       "3  Mass-Training_P_00004_LEFT_MLO/1.3.6.1.4.1.959...   \n",
       "4  Mass-Training_P_00004_RIGHT_MLO/1.3.6.1.4.1.95...   \n",
       "\n",
       "                             cropped image file path  \\\n",
       "0  Mass-Training_P_00001_LEFT_CC_1/1.3.6.1.4.1.95...   \n",
       "1  Mass-Training_P_00001_LEFT_MLO_1/1.3.6.1.4.1.9...   \n",
       "2  Mass-Training_P_00004_LEFT_CC_1/1.3.6.1.4.1.95...   \n",
       "3  Mass-Training_P_00004_LEFT_MLO_1/1.3.6.1.4.1.9...   \n",
       "4  Mass-Training_P_00004_RIGHT_MLO_1/1.3.6.1.4.1....   \n",
       "\n",
       "                                  ROI mask file path  \n",
       "0  Mass-Training_P_00001_LEFT_CC_1/1.3.6.1.4.1.95...  \n",
       "1  Mass-Training_P_00001_LEFT_MLO_1/1.3.6.1.4.1.9...  \n",
       "2  Mass-Training_P_00004_LEFT_CC_1/1.3.6.1.4.1.95...  \n",
       "3  Mass-Training_P_00004_LEFT_MLO_1/1.3.6.1.4.1.9...  \n",
       "4  Mass-Training_P_00004_RIGHT_MLO_1/1.3.6.1.4.1....  "
      ]
     },
     "execution_count": 2,
     "metadata": {},
     "output_type": "execute_result"
    }
   ],
   "source": [
    "mass_training_df=pd.read_csv('Mass_Training_Description.csv')\n",
    "mass_training_df.head(5)"
   ]
  },
  {
   "cell_type": "code",
   "execution_count": 3,
   "id": "d0d599bd",
   "metadata": {},
   "outputs": [
    {
     "data": {
      "text/html": [
       "<div>\n",
       "<style scoped>\n",
       "    .dataframe tbody tr th:only-of-type {\n",
       "        vertical-align: middle;\n",
       "    }\n",
       "\n",
       "    .dataframe tbody tr th {\n",
       "        vertical-align: top;\n",
       "    }\n",
       "\n",
       "    .dataframe thead th {\n",
       "        text-align: right;\n",
       "    }\n",
       "</style>\n",
       "<table border=\"1\" class=\"dataframe\">\n",
       "  <thead>\n",
       "    <tr style=\"text-align: right;\">\n",
       "      <th></th>\n",
       "      <th>Series UID</th>\n",
       "      <th>Collection</th>\n",
       "      <th>3rd Party Analysis</th>\n",
       "      <th>Data Description URI</th>\n",
       "      <th>Subject ID</th>\n",
       "      <th>Study UID</th>\n",
       "      <th>Study Description</th>\n",
       "      <th>Study Date</th>\n",
       "      <th>Series Description</th>\n",
       "      <th>Manufacturer</th>\n",
       "      <th>Modality</th>\n",
       "      <th>SOP Class Name</th>\n",
       "      <th>SOP Class UID</th>\n",
       "      <th>Number of Images</th>\n",
       "      <th>File Size</th>\n",
       "      <th>File Location</th>\n",
       "      <th>Download Timestamp</th>\n",
       "    </tr>\n",
       "  </thead>\n",
       "  <tbody>\n",
       "    <tr>\n",
       "      <th>0</th>\n",
       "      <td>1.3.6.1.4.1.9590.100.1.2.891800462110225318343...</td>\n",
       "      <td>CBIS-DDSM</td>\n",
       "      <td>NaN</td>\n",
       "      <td>https://doi.org/10.7937/K9/TCIA.2016.7O02S9CY</td>\n",
       "      <td>Mass-Training_P_00004_LEFT_CC</td>\n",
       "      <td>1.3.6.1.4.1.9590.100.1.2.347107867812656628709...</td>\n",
       "      <td>NaN</td>\n",
       "      <td>07-20-2016</td>\n",
       "      <td>full mammogram images</td>\n",
       "      <td>NaN</td>\n",
       "      <td>MG</td>\n",
       "      <td>Secondary Capture Image Storage</td>\n",
       "      <td>1.2.840.10008.5.1.4.1.1.7</td>\n",
       "      <td>1</td>\n",
       "      <td>32.79 MB</td>\n",
       "      <td>./CBIS-DDSM/Mass-Training_P_00004_LEFT_CC/07-2...</td>\n",
       "      <td>2022-10-05T12:05:25.623</td>\n",
       "    </tr>\n",
       "    <tr>\n",
       "      <th>1</th>\n",
       "      <td>1.3.6.1.4.1.9590.100.1.2.342386194811267636608...</td>\n",
       "      <td>CBIS-DDSM</td>\n",
       "      <td>NaN</td>\n",
       "      <td>https://doi.org/10.7937/K9/TCIA.2016.7O02S9CY</td>\n",
       "      <td>Mass-Training_P_00001_LEFT_CC</td>\n",
       "      <td>1.3.6.1.4.1.9590.100.1.2.422112722213189649807...</td>\n",
       "      <td>NaN</td>\n",
       "      <td>07-20-2016</td>\n",
       "      <td>full mammogram images</td>\n",
       "      <td>NaN</td>\n",
       "      <td>MG</td>\n",
       "      <td>Secondary Capture Image Storage</td>\n",
       "      <td>1.2.840.10008.5.1.4.1.1.7</td>\n",
       "      <td>1</td>\n",
       "      <td>29.08 MB</td>\n",
       "      <td>./CBIS-DDSM/Mass-Training_P_00001_LEFT_CC/07-2...</td>\n",
       "      <td>2022-10-05T12:05:27.258</td>\n",
       "    </tr>\n",
       "    <tr>\n",
       "      <th>2</th>\n",
       "      <td>1.3.6.1.4.1.9590.100.1.2.359308329312397897125...</td>\n",
       "      <td>CBIS-DDSM</td>\n",
       "      <td>NaN</td>\n",
       "      <td>https://doi.org/10.7937/K9/TCIA.2016.7O02S9CY</td>\n",
       "      <td>Mass-Training_P_00001_LEFT_MLO</td>\n",
       "      <td>1.3.6.1.4.1.9590.100.1.2.319478999311971442426...</td>\n",
       "      <td>NaN</td>\n",
       "      <td>07-20-2016</td>\n",
       "      <td>full mammogram images</td>\n",
       "      <td>NaN</td>\n",
       "      <td>MG</td>\n",
       "      <td>Secondary Capture Image Storage</td>\n",
       "      <td>1.2.840.10008.5.1.4.1.1.7</td>\n",
       "      <td>1</td>\n",
       "      <td>25.50 MB</td>\n",
       "      <td>./CBIS-DDSM/Mass-Training_P_00001_LEFT_MLO/07-...</td>\n",
       "      <td>2022-10-05T12:05:29.437</td>\n",
       "    </tr>\n",
       "    <tr>\n",
       "      <th>3</th>\n",
       "      <td>1.3.6.1.4.1.9590.100.1.2.295360926313492745441...</td>\n",
       "      <td>CBIS-DDSM</td>\n",
       "      <td>NaN</td>\n",
       "      <td>https://doi.org/10.7937/K9/TCIA.2016.7O02S9CY</td>\n",
       "      <td>Mass-Training_P_00004_LEFT_MLO</td>\n",
       "      <td>1.3.6.1.4.1.9590.100.1.2.272600286511817402806...</td>\n",
       "      <td>NaN</td>\n",
       "      <td>07-20-2016</td>\n",
       "      <td>full mammogram images</td>\n",
       "      <td>NaN</td>\n",
       "      <td>MG</td>\n",
       "      <td>Secondary Capture Image Storage</td>\n",
       "      <td>1.2.840.10008.5.1.4.1.1.7</td>\n",
       "      <td>1</td>\n",
       "      <td>33.45 MB</td>\n",
       "      <td>./CBIS-DDSM/Mass-Training_P_00004_LEFT_MLO/07-...</td>\n",
       "      <td>2022-10-05T12:05:52.926</td>\n",
       "    </tr>\n",
       "    <tr>\n",
       "      <th>4</th>\n",
       "      <td>1.3.6.1.4.1.9590.100.1.2.392091931911637760938...</td>\n",
       "      <td>CBIS-DDSM</td>\n",
       "      <td>NaN</td>\n",
       "      <td>https://doi.org/10.7937/K9/TCIA.2016.7O02S9CY</td>\n",
       "      <td>Mass-Training_P_00009_RIGHT_CC</td>\n",
       "      <td>1.3.6.1.4.1.9590.100.1.2.348094436212980762312...</td>\n",
       "      <td>NaN</td>\n",
       "      <td>07-20-2016</td>\n",
       "      <td>full mammogram images</td>\n",
       "      <td>NaN</td>\n",
       "      <td>MG</td>\n",
       "      <td>Secondary Capture Image Storage</td>\n",
       "      <td>1.2.840.10008.5.1.4.1.1.7</td>\n",
       "      <td>1</td>\n",
       "      <td>19.59 MB</td>\n",
       "      <td>./CBIS-DDSM/Mass-Training_P_00009_RIGHT_CC/07-...</td>\n",
       "      <td>2022-10-05T12:06:03.819</td>\n",
       "    </tr>\n",
       "  </tbody>\n",
       "</table>\n",
       "</div>"
      ],
      "text/plain": [
       "                                          Series UID Collection  \\\n",
       "0  1.3.6.1.4.1.9590.100.1.2.891800462110225318343...  CBIS-DDSM   \n",
       "1  1.3.6.1.4.1.9590.100.1.2.342386194811267636608...  CBIS-DDSM   \n",
       "2  1.3.6.1.4.1.9590.100.1.2.359308329312397897125...  CBIS-DDSM   \n",
       "3  1.3.6.1.4.1.9590.100.1.2.295360926313492745441...  CBIS-DDSM   \n",
       "4  1.3.6.1.4.1.9590.100.1.2.392091931911637760938...  CBIS-DDSM   \n",
       "\n",
       "   3rd Party Analysis                           Data Description URI  \\\n",
       "0                 NaN  https://doi.org/10.7937/K9/TCIA.2016.7O02S9CY   \n",
       "1                 NaN  https://doi.org/10.7937/K9/TCIA.2016.7O02S9CY   \n",
       "2                 NaN  https://doi.org/10.7937/K9/TCIA.2016.7O02S9CY   \n",
       "3                 NaN  https://doi.org/10.7937/K9/TCIA.2016.7O02S9CY   \n",
       "4                 NaN  https://doi.org/10.7937/K9/TCIA.2016.7O02S9CY   \n",
       "\n",
       "                       Subject ID  \\\n",
       "0   Mass-Training_P_00004_LEFT_CC   \n",
       "1   Mass-Training_P_00001_LEFT_CC   \n",
       "2  Mass-Training_P_00001_LEFT_MLO   \n",
       "3  Mass-Training_P_00004_LEFT_MLO   \n",
       "4  Mass-Training_P_00009_RIGHT_CC   \n",
       "\n",
       "                                           Study UID  Study Description  \\\n",
       "0  1.3.6.1.4.1.9590.100.1.2.347107867812656628709...                NaN   \n",
       "1  1.3.6.1.4.1.9590.100.1.2.422112722213189649807...                NaN   \n",
       "2  1.3.6.1.4.1.9590.100.1.2.319478999311971442426...                NaN   \n",
       "3  1.3.6.1.4.1.9590.100.1.2.272600286511817402806...                NaN   \n",
       "4  1.3.6.1.4.1.9590.100.1.2.348094436212980762312...                NaN   \n",
       "\n",
       "   Study Date     Series Description  Manufacturer Modality  \\\n",
       "0  07-20-2016  full mammogram images           NaN       MG   \n",
       "1  07-20-2016  full mammogram images           NaN       MG   \n",
       "2  07-20-2016  full mammogram images           NaN       MG   \n",
       "3  07-20-2016  full mammogram images           NaN       MG   \n",
       "4  07-20-2016  full mammogram images           NaN       MG   \n",
       "\n",
       "                    SOP Class Name              SOP Class UID  \\\n",
       "0  Secondary Capture Image Storage  1.2.840.10008.5.1.4.1.1.7   \n",
       "1  Secondary Capture Image Storage  1.2.840.10008.5.1.4.1.1.7   \n",
       "2  Secondary Capture Image Storage  1.2.840.10008.5.1.4.1.1.7   \n",
       "3  Secondary Capture Image Storage  1.2.840.10008.5.1.4.1.1.7   \n",
       "4  Secondary Capture Image Storage  1.2.840.10008.5.1.4.1.1.7   \n",
       "\n",
       "   Number of Images File Size  \\\n",
       "0                 1  32.79 MB   \n",
       "1                 1  29.08 MB   \n",
       "2                 1  25.50 MB   \n",
       "3                 1  33.45 MB   \n",
       "4                 1  19.59 MB   \n",
       "\n",
       "                                       File Location       Download Timestamp  \n",
       "0  ./CBIS-DDSM/Mass-Training_P_00004_LEFT_CC/07-2...  2022-10-05T12:05:25.623  \n",
       "1  ./CBIS-DDSM/Mass-Training_P_00001_LEFT_CC/07-2...  2022-10-05T12:05:27.258  \n",
       "2  ./CBIS-DDSM/Mass-Training_P_00001_LEFT_MLO/07-...  2022-10-05T12:05:29.437  \n",
       "3  ./CBIS-DDSM/Mass-Training_P_00004_LEFT_MLO/07-...  2022-10-05T12:05:52.926  \n",
       "4  ./CBIS-DDSM/Mass-Training_P_00009_RIGHT_CC/07-...  2022-10-05T12:06:03.819  "
      ]
     },
     "execution_count": 3,
     "metadata": {},
     "output_type": "execute_result"
    }
   ],
   "source": [
    "# Inside mass training full, there is another metadata file:\n",
    "path_csv_mass_full=f'/Users/carloscardona/Dropbox (Personal)/Programming_N_related/Startup_ideas/Breast cancer\\\n",
    "/data_CBIS-DDSM/Mass_training_full/'\n",
    "mass_training_full_df=pd.read_csv(path_csv_mass_full+'metadata.csv')\n",
    "mass_training_full_df.head(5)"
   ]
  },
  {
   "cell_type": "code",
   "execution_count": 4,
   "id": "cfa2a191",
   "metadata": {},
   "outputs": [
    {
     "data": {
      "text/html": [
       "<div>\n",
       "<style scoped>\n",
       "    .dataframe tbody tr th:only-of-type {\n",
       "        vertical-align: middle;\n",
       "    }\n",
       "\n",
       "    .dataframe tbody tr th {\n",
       "        vertical-align: top;\n",
       "    }\n",
       "\n",
       "    .dataframe thead th {\n",
       "        text-align: right;\n",
       "    }\n",
       "</style>\n",
       "<table border=\"1\" class=\"dataframe\">\n",
       "  <thead>\n",
       "    <tr style=\"text-align: right;\">\n",
       "      <th></th>\n",
       "      <th>Series UID</th>\n",
       "      <th>Collection</th>\n",
       "      <th>3rd Party Analysis</th>\n",
       "      <th>Data Description URI</th>\n",
       "      <th>Subject ID</th>\n",
       "      <th>Study UID</th>\n",
       "      <th>Study Description</th>\n",
       "      <th>Study Date</th>\n",
       "      <th>Series Description</th>\n",
       "      <th>Manufacturer</th>\n",
       "      <th>Modality</th>\n",
       "      <th>SOP Class Name</th>\n",
       "      <th>SOP Class UID</th>\n",
       "      <th>Number of Images</th>\n",
       "      <th>File Size</th>\n",
       "      <th>File Location</th>\n",
       "      <th>Download Timestamp</th>\n",
       "    </tr>\n",
       "  </thead>\n",
       "  <tbody>\n",
       "    <tr>\n",
       "      <th>0</th>\n",
       "      <td>1.3.6.1.4.1.9590.100.1.2.227955274711225756835...</td>\n",
       "      <td>CBIS-DDSM</td>\n",
       "      <td>NaN</td>\n",
       "      <td>https://doi.org/10.7937/K9/TCIA.2016.7O02S9CY</td>\n",
       "      <td>Mass-Training_P_00001_LEFT_MLO_1</td>\n",
       "      <td>1.3.6.1.4.1.9590.100.1.2.188473874511440575807...</td>\n",
       "      <td>NaN</td>\n",
       "      <td>07-21-2016</td>\n",
       "      <td>ROI mask images</td>\n",
       "      <td>NaN</td>\n",
       "      <td>MG</td>\n",
       "      <td>Secondary Capture Image Storage</td>\n",
       "      <td>1.2.840.10008.5.1.4.1.1.7</td>\n",
       "      <td>2</td>\n",
       "      <td>12.90 MB</td>\n",
       "      <td>./CBIS-DDSM/Mass-Training_P_00001_LEFT_MLO_1/0...</td>\n",
       "      <td>2022-10-05T19:42:04.347</td>\n",
       "    </tr>\n",
       "    <tr>\n",
       "      <th>1</th>\n",
       "      <td>1.3.6.1.4.1.9590.100.1.2.296736403313792599626...</td>\n",
       "      <td>CBIS-DDSM</td>\n",
       "      <td>NaN</td>\n",
       "      <td>https://doi.org/10.7937/K9/TCIA.2016.7O02S9CY</td>\n",
       "      <td>Mass-Training_P_00001_LEFT_CC_1</td>\n",
       "      <td>1.3.6.1.4.1.9590.100.1.2.108268213011361124203...</td>\n",
       "      <td>NaN</td>\n",
       "      <td>07-21-2016</td>\n",
       "      <td>ROI mask images</td>\n",
       "      <td>NaN</td>\n",
       "      <td>MG</td>\n",
       "      <td>Secondary Capture Image Storage</td>\n",
       "      <td>1.2.840.10008.5.1.4.1.1.7</td>\n",
       "      <td>2</td>\n",
       "      <td>14.99 MB</td>\n",
       "      <td>./CBIS-DDSM/Mass-Training_P_00001_LEFT_CC_1/07...</td>\n",
       "      <td>2022-10-05T19:42:10.717</td>\n",
       "    </tr>\n",
       "    <tr>\n",
       "      <th>2</th>\n",
       "      <td>1.3.6.1.4.1.9590.100.1.2.429120414011832984817...</td>\n",
       "      <td>CBIS-DDSM</td>\n",
       "      <td>NaN</td>\n",
       "      <td>https://doi.org/10.7937/K9/TCIA.2016.7O02S9CY</td>\n",
       "      <td>Mass-Training_P_00004_LEFT_CC_1</td>\n",
       "      <td>1.3.6.1.4.1.9590.100.1.2.414182170112396175925...</td>\n",
       "      <td>NaN</td>\n",
       "      <td>07-21-2016</td>\n",
       "      <td>ROI mask images</td>\n",
       "      <td>NaN</td>\n",
       "      <td>MG</td>\n",
       "      <td>Secondary Capture Image Storage</td>\n",
       "      <td>1.2.840.10008.5.1.4.1.1.7</td>\n",
       "      <td>2</td>\n",
       "      <td>16.79 MB</td>\n",
       "      <td>./CBIS-DDSM/Mass-Training_P_00004_LEFT_CC_1/07...</td>\n",
       "      <td>2022-10-05T19:42:11.721</td>\n",
       "    </tr>\n",
       "    <tr>\n",
       "      <th>3</th>\n",
       "      <td>1.3.6.1.4.1.9590.100.1.2.115134232113001553100...</td>\n",
       "      <td>CBIS-DDSM</td>\n",
       "      <td>NaN</td>\n",
       "      <td>https://doi.org/10.7937/K9/TCIA.2016.7O02S9CY</td>\n",
       "      <td>Mass-Training_P_00004_LEFT_MLO_1</td>\n",
       "      <td>1.3.6.1.4.1.9590.100.1.2.342549219112801262604...</td>\n",
       "      <td>NaN</td>\n",
       "      <td>07-21-2016</td>\n",
       "      <td>ROI mask images</td>\n",
       "      <td>NaN</td>\n",
       "      <td>MG</td>\n",
       "      <td>Secondary Capture Image Storage</td>\n",
       "      <td>1.2.840.10008.5.1.4.1.1.7</td>\n",
       "      <td>2</td>\n",
       "      <td>17.09 MB</td>\n",
       "      <td>./CBIS-DDSM/Mass-Training_P_00004_LEFT_MLO_1/0...</td>\n",
       "      <td>2022-10-05T19:42:17.431</td>\n",
       "    </tr>\n",
       "    <tr>\n",
       "      <th>4</th>\n",
       "      <td>1.3.6.1.4.1.9590.100.1.2.383553482116000948064...</td>\n",
       "      <td>CBIS-DDSM</td>\n",
       "      <td>NaN</td>\n",
       "      <td>https://doi.org/10.7937/K9/TCIA.2016.7O02S9CY</td>\n",
       "      <td>Mass-Training_P_00009_RIGHT_CC_1</td>\n",
       "      <td>1.3.6.1.4.1.9590.100.1.2.242248988911264591618...</td>\n",
       "      <td>NaN</td>\n",
       "      <td>07-21-2016</td>\n",
       "      <td>ROI mask images</td>\n",
       "      <td>NaN</td>\n",
       "      <td>MG</td>\n",
       "      <td>Secondary Capture Image Storage</td>\n",
       "      <td>1.2.840.10008.5.1.4.1.1.7</td>\n",
       "      <td>2</td>\n",
       "      <td>9.91 MB</td>\n",
       "      <td>./CBIS-DDSM/Mass-Training_P_00009_RIGHT_CC_1/0...</td>\n",
       "      <td>2022-10-05T19:42:29.02</td>\n",
       "    </tr>\n",
       "  </tbody>\n",
       "</table>\n",
       "</div>"
      ],
      "text/plain": [
       "                                          Series UID Collection  \\\n",
       "0  1.3.6.1.4.1.9590.100.1.2.227955274711225756835...  CBIS-DDSM   \n",
       "1  1.3.6.1.4.1.9590.100.1.2.296736403313792599626...  CBIS-DDSM   \n",
       "2  1.3.6.1.4.1.9590.100.1.2.429120414011832984817...  CBIS-DDSM   \n",
       "3  1.3.6.1.4.1.9590.100.1.2.115134232113001553100...  CBIS-DDSM   \n",
       "4  1.3.6.1.4.1.9590.100.1.2.383553482116000948064...  CBIS-DDSM   \n",
       "\n",
       "   3rd Party Analysis                           Data Description URI  \\\n",
       "0                 NaN  https://doi.org/10.7937/K9/TCIA.2016.7O02S9CY   \n",
       "1                 NaN  https://doi.org/10.7937/K9/TCIA.2016.7O02S9CY   \n",
       "2                 NaN  https://doi.org/10.7937/K9/TCIA.2016.7O02S9CY   \n",
       "3                 NaN  https://doi.org/10.7937/K9/TCIA.2016.7O02S9CY   \n",
       "4                 NaN  https://doi.org/10.7937/K9/TCIA.2016.7O02S9CY   \n",
       "\n",
       "                         Subject ID  \\\n",
       "0  Mass-Training_P_00001_LEFT_MLO_1   \n",
       "1   Mass-Training_P_00001_LEFT_CC_1   \n",
       "2   Mass-Training_P_00004_LEFT_CC_1   \n",
       "3  Mass-Training_P_00004_LEFT_MLO_1   \n",
       "4  Mass-Training_P_00009_RIGHT_CC_1   \n",
       "\n",
       "                                           Study UID  Study Description  \\\n",
       "0  1.3.6.1.4.1.9590.100.1.2.188473874511440575807...                NaN   \n",
       "1  1.3.6.1.4.1.9590.100.1.2.108268213011361124203...                NaN   \n",
       "2  1.3.6.1.4.1.9590.100.1.2.414182170112396175925...                NaN   \n",
       "3  1.3.6.1.4.1.9590.100.1.2.342549219112801262604...                NaN   \n",
       "4  1.3.6.1.4.1.9590.100.1.2.242248988911264591618...                NaN   \n",
       "\n",
       "   Study Date Series Description  Manufacturer Modality  \\\n",
       "0  07-21-2016    ROI mask images           NaN       MG   \n",
       "1  07-21-2016    ROI mask images           NaN       MG   \n",
       "2  07-21-2016    ROI mask images           NaN       MG   \n",
       "3  07-21-2016    ROI mask images           NaN       MG   \n",
       "4  07-21-2016    ROI mask images           NaN       MG   \n",
       "\n",
       "                    SOP Class Name              SOP Class UID  \\\n",
       "0  Secondary Capture Image Storage  1.2.840.10008.5.1.4.1.1.7   \n",
       "1  Secondary Capture Image Storage  1.2.840.10008.5.1.4.1.1.7   \n",
       "2  Secondary Capture Image Storage  1.2.840.10008.5.1.4.1.1.7   \n",
       "3  Secondary Capture Image Storage  1.2.840.10008.5.1.4.1.1.7   \n",
       "4  Secondary Capture Image Storage  1.2.840.10008.5.1.4.1.1.7   \n",
       "\n",
       "   Number of Images File Size  \\\n",
       "0                 2  12.90 MB   \n",
       "1                 2  14.99 MB   \n",
       "2                 2  16.79 MB   \n",
       "3                 2  17.09 MB   \n",
       "4                 2   9.91 MB   \n",
       "\n",
       "                                       File Location       Download Timestamp  \n",
       "0  ./CBIS-DDSM/Mass-Training_P_00001_LEFT_MLO_1/0...  2022-10-05T19:42:04.347  \n",
       "1  ./CBIS-DDSM/Mass-Training_P_00001_LEFT_CC_1/07...  2022-10-05T19:42:10.717  \n",
       "2  ./CBIS-DDSM/Mass-Training_P_00004_LEFT_CC_1/07...  2022-10-05T19:42:11.721  \n",
       "3  ./CBIS-DDSM/Mass-Training_P_00004_LEFT_MLO_1/0...  2022-10-05T19:42:17.431  \n",
       "4  ./CBIS-DDSM/Mass-Training_P_00009_RIGHT_CC_1/0...   2022-10-05T19:42:29.02  "
      ]
     },
     "execution_count": 4,
     "metadata": {},
     "output_type": "execute_result"
    }
   ],
   "source": [
    "# Inside mass training ROI, there is another metadata file:\n",
    "path_csv_mass_roi=f'/Users/carloscardona/Dropbox (Personal)/Programming_N_related/Startup_ideas/Breast cancer\\\n",
    "/data_CBIS-DDSM/Mass_training_ROI_cropped/'\n",
    "mass_training_roi_df=pd.read_csv(path_csv_mass_roi+'metadata.csv')\n",
    "mass_training_roi_df.head(5)"
   ]
  },
  {
   "cell_type": "markdown",
   "id": "4c73767f",
   "metadata": {},
   "source": [
    "Apparently, the 'image file path' paths does not match the name of the paths in my data base folder, therefore i am gonna link the patiente with its corresponding ID only."
   ]
  },
  {
   "cell_type": "raw",
   "id": "819c3854",
   "metadata": {},
   "source": [
    "import importlib\n",
    "import mamo_preprocessing as mp\n",
    "importlib.reload(mp)"
   ]
  },
  {
   "cell_type": "markdown",
   "id": "506814e0",
   "metadata": {},
   "source": [
    "### Training set Full images\n",
    "Lets create a training set of images for the full images data set"
   ]
  },
  {
   "cell_type": "raw",
   "id": "c48ccbfa",
   "metadata": {},
   "source": [
    "all_data_len=len(mass_training_df['patient_id'])\n",
    "path_base='/Users/carloscardona/Dropbox (Personal)/Programming_N_related/Startup_ideas/Breast cancer/My_own_app/'\n",
    "pics_sofar=os.listdir(path_base+'Data_png/Training_png')"
   ]
  },
  {
   "cell_type": "raw",
   "id": "a8d61939",
   "metadata": {},
   "source": [
    "importlib.reload(mp)\n",
    "for i in range(1232,all_data_len):\n",
    "    mp.patient_pic_save(mass_training_df['patient_id'][i]) "
   ]
  },
  {
   "cell_type": "markdown",
   "id": "6424423e",
   "metadata": {},
   "source": [
    "### Promoting mamo_preprocessing to Class to deal with Full and Roi at the same level"
   ]
  },
  {
   "cell_type": "code",
   "execution_count": 5,
   "id": "1fc4d798",
   "metadata": {},
   "outputs": [],
   "source": [
    "import importlib\n",
    "from mamo_preprocessing import mamo_prepros as mp\n",
    "#importlib.reload(mp)"
   ]
  },
  {
   "cell_type": "code",
   "execution_count": 6,
   "id": "d5529cb2",
   "metadata": {},
   "outputs": [],
   "source": [
    "mp_full=mp(True) \n",
    "mp_roi=mp(False) "
   ]
  },
  {
   "cell_type": "code",
   "execution_count": 7,
   "id": "5262fd9d",
   "metadata": {},
   "outputs": [
    {
     "data": {
      "text/plain": [
       "[PosixPath('/Users/carloscardona/Dropbox (Personal)/Programming_N_related/Startup_ideas/Breast cancer/data_CBIS-DDSM/Mass_training_full/CBIS-DDSM/Mass-Training_P_00001_LEFT_CC/07-20-2016-DDSM-NA-74994/1.000000-full mammogram images-24515/1-1.dcm'),\n",
       " PosixPath('/Users/carloscardona/Dropbox (Personal)/Programming_N_related/Startup_ideas/Breast cancer/data_CBIS-DDSM/Mass_training_full/CBIS-DDSM/Mass-Training_P_00001_LEFT_MLO/07-20-2016-DDSM-NA-90988/1.000000-full mammogram images-80834/1-1.dcm')]"
      ]
     },
     "execution_count": 7,
     "metadata": {},
     "output_type": "execute_result"
    }
   ],
   "source": [
    "mp_full.patient_path_dcm_list(mass_training_df['patient_id'][0])"
   ]
  },
  {
   "cell_type": "code",
   "execution_count": 8,
   "id": "a63019b4",
   "metadata": {},
   "outputs": [],
   "source": [
    "mp_roi.patient_pic_save(mass_training_df['patient_id'][0])"
   ]
  },
  {
   "cell_type": "code",
   "execution_count": 9,
   "id": "062c339b",
   "metadata": {},
   "outputs": [],
   "source": [
    "import matplotlib.pyplot as plt\n",
    "import pydicom\n",
    "import numpy as np\n",
    "def scale_image_01(img):\n",
    "        return (img.astype(np.float64) - img.min()) / (img.max() - img.min())\n",
    "    \n",
    "mammo_full_cont=pydicom.dcmread(mp_full.patient_path_dcm_list(mass_training_df['patient_id'][0])[0])\n",
    "mammo_full_array = mammo_full_cont.pixel_array\n",
    "mammo_full_array\n",
    "\n",
    "mammo_roi_cont=pydicom.dcmread(mp_roi.patient_path_dcm_list(mass_training_df['patient_id'][0])[1])\n",
    "mammo_roi_array = mammo_roi_cont.pixel_array\n",
    "mammo_roi_array = mammo_roi_array*1500"
   ]
  },
  {
   "cell_type": "code",
   "execution_count": 10,
   "id": "169bbd65",
   "metadata": {},
   "outputs": [
    {
     "data": {
      "image/png": "[encoded data removed]",
      "text/plain": [
       "<Figure size 1200x900 with 1 Axes>"
      ]
     },
     "metadata": {},
     "output_type": "display_data"
    }
   ],
   "source": [
    "mammo_full_full=mammo_full_array-mammo_roi_array\n",
    "mammo_scaled = scale_image_01(mammo_full_full)\n",
    "plt.imshow(mammo_scaled, cmap='gray')\n",
    "#plt.rcParams[\"figure.figsize\"] = (12,9)\n",
    "plt.rcParams['image.interpolation'] = 'nearest' \n",
    "plt.axis('off')\n",
    "plt.show()"
   ]
  },
  {
   "cell_type": "code",
   "execution_count": 15,
   "id": "7cdea029",
   "metadata": {},
   "outputs": [
    {
     "data": {
      "text/plain": [
       "(4808, 3024)"
      ]
     },
     "execution_count": 15,
     "metadata": {},
     "output_type": "execute_result"
    }
   ],
   "source": [
    "mammo_scaled.shape"
   ]
  },
  {
   "cell_type": "markdown",
   "id": "823dae4d",
   "metadata": {},
   "source": [
    "## Training set patches "
   ]
  },
  {
   "cell_type": "code",
   "execution_count": 6,
   "id": "999517ff",
   "metadata": {},
   "outputs": [],
   "source": [
    "all_data_len=len(mass_training_df['patient_id'])\n",
    "path_base='/Users/carloscardona/Dropbox (Personal)/Programming_N_related/Startup_ideas/Breast cancer/My_own_app/'\n",
    "pics_sofar=os.listdir(path_base+'Data_png/Training_patches')\n",
    "pics_sofar_full=os.listdir(path_base+'Data_png/Training_full')"
   ]
  },
  {
   "cell_type": "raw",
   "id": "072caf83",
   "metadata": {},
   "source": [
    "for i in range(all_data_len):\n",
    "    mp_full.patient_pic_save(mass_training_df['patient_id'][i])"
   ]
  },
  {
   "cell_type": "markdown",
   "id": "be879f0e",
   "metadata": {},
   "source": [
    "## Test set patches "
   ]
  },
  {
   "cell_type": "code",
   "execution_count": 4,
   "id": "ad723aba",
   "metadata": {},
   "outputs": [
    {
     "data": {
      "text/html": [
       "<div>\n",
       "<style scoped>\n",
       "    .dataframe tbody tr th:only-of-type {\n",
       "        vertical-align: middle;\n",
       "    }\n",
       "\n",
       "    .dataframe tbody tr th {\n",
       "        vertical-align: top;\n",
       "    }\n",
       "\n",
       "    .dataframe thead th {\n",
       "        text-align: right;\n",
       "    }\n",
       "</style>\n",
       "<table border=\"1\" class=\"dataframe\">\n",
       "  <thead>\n",
       "    <tr style=\"text-align: right;\">\n",
       "      <th></th>\n",
       "      <th>patient_id</th>\n",
       "      <th>breast_density</th>\n",
       "      <th>left or right breast</th>\n",
       "      <th>image view</th>\n",
       "      <th>abnormality id</th>\n",
       "      <th>abnormality type</th>\n",
       "      <th>mass shape</th>\n",
       "      <th>mass margins</th>\n",
       "      <th>assessment</th>\n",
       "      <th>pathology</th>\n",
       "      <th>subtlety</th>\n",
       "      <th>image file path</th>\n",
       "      <th>cropped image file path</th>\n",
       "      <th>ROI mask file path</th>\n",
       "    </tr>\n",
       "  </thead>\n",
       "  <tbody>\n",
       "    <tr>\n",
       "      <th>0</th>\n",
       "      <td>P_00016</td>\n",
       "      <td>4</td>\n",
       "      <td>LEFT</td>\n",
       "      <td>CC</td>\n",
       "      <td>1</td>\n",
       "      <td>mass</td>\n",
       "      <td>IRREGULAR</td>\n",
       "      <td>SPICULATED</td>\n",
       "      <td>5</td>\n",
       "      <td>MALIGNANT</td>\n",
       "      <td>5</td>\n",
       "      <td>Mass-Test_P_00016_LEFT_CC/1.3.6.1.4.1.9590.100...</td>\n",
       "      <td>Mass-Test_P_00016_LEFT_CC_1/1.3.6.1.4.1.9590.1...</td>\n",
       "      <td>Mass-Test_P_00016_LEFT_CC_1/1.3.6.1.4.1.9590.1...</td>\n",
       "    </tr>\n",
       "    <tr>\n",
       "      <th>1</th>\n",
       "      <td>P_00016</td>\n",
       "      <td>4</td>\n",
       "      <td>LEFT</td>\n",
       "      <td>MLO</td>\n",
       "      <td>1</td>\n",
       "      <td>mass</td>\n",
       "      <td>IRREGULAR</td>\n",
       "      <td>SPICULATED</td>\n",
       "      <td>5</td>\n",
       "      <td>MALIGNANT</td>\n",
       "      <td>5</td>\n",
       "      <td>Mass-Test_P_00016_LEFT_MLO/1.3.6.1.4.1.9590.10...</td>\n",
       "      <td>Mass-Test_P_00016_LEFT_MLO_1/1.3.6.1.4.1.9590....</td>\n",
       "      <td>Mass-Test_P_00016_LEFT_MLO_1/1.3.6.1.4.1.9590....</td>\n",
       "    </tr>\n",
       "    <tr>\n",
       "      <th>2</th>\n",
       "      <td>P_00017</td>\n",
       "      <td>2</td>\n",
       "      <td>LEFT</td>\n",
       "      <td>CC</td>\n",
       "      <td>1</td>\n",
       "      <td>mass</td>\n",
       "      <td>ROUND</td>\n",
       "      <td>CIRCUMSCRIBED</td>\n",
       "      <td>4</td>\n",
       "      <td>MALIGNANT</td>\n",
       "      <td>4</td>\n",
       "      <td>Mass-Test_P_00017_LEFT_CC/1.3.6.1.4.1.9590.100...</td>\n",
       "      <td>Mass-Test_P_00017_LEFT_CC_1/1.3.6.1.4.1.9590.1...</td>\n",
       "      <td>Mass-Test_P_00017_LEFT_CC_1/1.3.6.1.4.1.9590.1...</td>\n",
       "    </tr>\n",
       "    <tr>\n",
       "      <th>3</th>\n",
       "      <td>P_00017</td>\n",
       "      <td>2</td>\n",
       "      <td>LEFT</td>\n",
       "      <td>MLO</td>\n",
       "      <td>1</td>\n",
       "      <td>mass</td>\n",
       "      <td>ROUND</td>\n",
       "      <td>ILL_DEFINED</td>\n",
       "      <td>4</td>\n",
       "      <td>MALIGNANT</td>\n",
       "      <td>4</td>\n",
       "      <td>Mass-Test_P_00017_LEFT_MLO/1.3.6.1.4.1.9590.10...</td>\n",
       "      <td>Mass-Test_P_00017_LEFT_MLO_1/1.3.6.1.4.1.9590....</td>\n",
       "      <td>Mass-Test_P_00017_LEFT_MLO_1/1.3.6.1.4.1.9590....</td>\n",
       "    </tr>\n",
       "    <tr>\n",
       "      <th>4</th>\n",
       "      <td>P_00032</td>\n",
       "      <td>3</td>\n",
       "      <td>RIGHT</td>\n",
       "      <td>CC</td>\n",
       "      <td>1</td>\n",
       "      <td>mass</td>\n",
       "      <td>ROUND</td>\n",
       "      <td>OBSCURED</td>\n",
       "      <td>0</td>\n",
       "      <td>BENIGN</td>\n",
       "      <td>2</td>\n",
       "      <td>Mass-Test_P_00032_RIGHT_CC/1.3.6.1.4.1.9590.10...</td>\n",
       "      <td>Mass-Test_P_00032_RIGHT_CC_1/1.3.6.1.4.1.9590....</td>\n",
       "      <td>Mass-Test_P_00032_RIGHT_CC_1/1.3.6.1.4.1.9590....</td>\n",
       "    </tr>\n",
       "  </tbody>\n",
       "</table>\n",
       "</div>"
      ],
      "text/plain": [
       "  patient_id  breast_density left or right breast image view  abnormality id  \\\n",
       "0    P_00016               4                 LEFT         CC               1   \n",
       "1    P_00016               4                 LEFT        MLO               1   \n",
       "2    P_00017               2                 LEFT         CC               1   \n",
       "3    P_00017               2                 LEFT        MLO               1   \n",
       "4    P_00032               3                RIGHT         CC               1   \n",
       "\n",
       "  abnormality type mass shape   mass margins  assessment  pathology  subtlety  \\\n",
       "0             mass  IRREGULAR     SPICULATED           5  MALIGNANT         5   \n",
       "1             mass  IRREGULAR     SPICULATED           5  MALIGNANT         5   \n",
       "2             mass      ROUND  CIRCUMSCRIBED           4  MALIGNANT         4   \n",
       "3             mass      ROUND    ILL_DEFINED           4  MALIGNANT         4   \n",
       "4             mass      ROUND       OBSCURED           0     BENIGN         2   \n",
       "\n",
       "                                     image file path  \\\n",
       "0  Mass-Test_P_00016_LEFT_CC/1.3.6.1.4.1.9590.100...   \n",
       "1  Mass-Test_P_00016_LEFT_MLO/1.3.6.1.4.1.9590.10...   \n",
       "2  Mass-Test_P_00017_LEFT_CC/1.3.6.1.4.1.9590.100...   \n",
       "3  Mass-Test_P_00017_LEFT_MLO/1.3.6.1.4.1.9590.10...   \n",
       "4  Mass-Test_P_00032_RIGHT_CC/1.3.6.1.4.1.9590.10...   \n",
       "\n",
       "                             cropped image file path  \\\n",
       "0  Mass-Test_P_00016_LEFT_CC_1/1.3.6.1.4.1.9590.1...   \n",
       "1  Mass-Test_P_00016_LEFT_MLO_1/1.3.6.1.4.1.9590....   \n",
       "2  Mass-Test_P_00017_LEFT_CC_1/1.3.6.1.4.1.9590.1...   \n",
       "3  Mass-Test_P_00017_LEFT_MLO_1/1.3.6.1.4.1.9590....   \n",
       "4  Mass-Test_P_00032_RIGHT_CC_1/1.3.6.1.4.1.9590....   \n",
       "\n",
       "                                  ROI mask file path  \n",
       "0  Mass-Test_P_00016_LEFT_CC_1/1.3.6.1.4.1.9590.1...  \n",
       "1  Mass-Test_P_00016_LEFT_MLO_1/1.3.6.1.4.1.9590....  \n",
       "2  Mass-Test_P_00017_LEFT_CC_1/1.3.6.1.4.1.9590.1...  \n",
       "3  Mass-Test_P_00017_LEFT_MLO_1/1.3.6.1.4.1.9590....  \n",
       "4  Mass-Test_P_00032_RIGHT_CC_1/1.3.6.1.4.1.9590....  "
      ]
     },
     "execution_count": 4,
     "metadata": {},
     "output_type": "execute_result"
    }
   ],
   "source": [
    "mass_test_df=pd.read_csv('Mass_Test_Description.csv')\n",
    "mass_test_df.head(5)"
   ]
  },
  {
   "cell_type": "code",
   "execution_count": 7,
   "id": "c4426611",
   "metadata": {},
   "outputs": [],
   "source": [
    "all_data_len=len(mass_test_df['patient_id'])\n",
    "path_base='/Users/carloscardona/Dropbox (Personal)/Programming_N_related/Startup_ideas/Breast cancer/My_own_app/'\n",
    "pics_sofar=os.listdir(path_base+'Data_png/Test_')"
   ]
  },
  {
   "cell_type": "code",
   "execution_count": 9,
   "id": "64f2707a",
   "metadata": {},
   "outputs": [
    {
     "data": {
      "text/plain": [
       "[]"
      ]
     },
     "execution_count": 9,
     "metadata": {},
     "output_type": "execute_result"
    }
   ],
   "source": [
    "mp_full.patient_path_dcm_list_testset(mass_test_df['patient_id'][0])"
   ]
  },
  {
   "cell_type": "code",
   "execution_count": 7,
   "id": "28722a85",
   "metadata": {},
   "outputs": [],
   "source": [
    "for i in range(all_data_len):\n",
    "    mp_roi.patient_pic_save_test(mass_test_df['patient_id'][i])"
   ]
  },
  {
   "cell_type": "markdown",
   "id": "fdfc9f35",
   "metadata": {},
   "source": [
    "# Test full"
   ]
  },
  {
   "cell_type": "code",
   "execution_count": 5,
   "id": "26dbe46e",
   "metadata": {},
   "outputs": [],
   "source": [
    "all_data_len=len(mass_test_df['patient_id'])\n",
    "path_base='/Users/carloscardona/Dropbox (Personal)/Programming_N_related/Startup_ideas/Breast cancer/My_own_app/'\n",
    "pics_sofar=os.listdir(path_base+'Data_png/Test_full')"
   ]
  },
  {
   "cell_type": "code",
   "execution_count": 6,
   "id": "f52135e6",
   "metadata": {},
   "outputs": [
    {
     "data": {
      "text/plain": [
       "[PosixPath('/Users/carloscardona/Dropbox (Personal)/Programming_N_related/Startup_ideas/Breast cancer/data_CBIS-DDSM/Mass_test_full/CBIS-DDSM/Mass-Test_P_00017_LEFT_CC/10-04-2016-DDSM-NA-12683/1.000000-full mammogram images-82967/1-1.dcm'),\n",
       " PosixPath('/Users/carloscardona/Dropbox (Personal)/Programming_N_related/Startup_ideas/Breast cancer/data_CBIS-DDSM/Mass_test_full/CBIS-DDSM/Mass-Test_P_00017_LEFT_MLO/10-04-2016-DDSM-NA-89998/1.000000-full mammogram images-29934/1-1.dcm')]"
      ]
     },
     "execution_count": 6,
     "metadata": {},
     "output_type": "execute_result"
    }
   ],
   "source": [
    "mp_full.patient_path_dcm_list_testset(mass_test_df['patient_id'][2])"
   ]
  },
  {
   "cell_type": "code",
   "execution_count": null,
   "id": "3bac6c10",
   "metadata": {},
   "outputs": [],
   "source": [
    "for i in range(all_data_len):\n",
    "    mp_full.patient_pic_save_test(mass_test_df['patient_id'][i])"
   ]
  },
  {
   "cell_type": "markdown",
   "id": "7ebbec1c",
   "metadata": {},
   "source": [
    "### Spliting Data\n",
    "Now we need to split the data: First between classes (i.e. Malig, Bening) and then between Train and Val."
   ]
  },
  {
   "cell_type": "code",
   "execution_count": 27,
   "id": "1d1edc42",
   "metadata": {},
   "outputs": [
    {
     "data": {
      "text/html": [
       "<div>\n",
       "<style scoped>\n",
       "    .dataframe tbody tr th:only-of-type {\n",
       "        vertical-align: middle;\n",
       "    }\n",
       "\n",
       "    .dataframe tbody tr th {\n",
       "        vertical-align: top;\n",
       "    }\n",
       "\n",
       "    .dataframe thead th {\n",
       "        text-align: right;\n",
       "    }\n",
       "</style>\n",
       "<table border=\"1\" class=\"dataframe\">\n",
       "  <thead>\n",
       "    <tr style=\"text-align: right;\">\n",
       "      <th></th>\n",
       "      <th>patient_id</th>\n",
       "      <th>breast_density</th>\n",
       "      <th>left or right breast</th>\n",
       "      <th>image view</th>\n",
       "      <th>abnormality id</th>\n",
       "      <th>abnormality type</th>\n",
       "      <th>mass shape</th>\n",
       "      <th>mass margins</th>\n",
       "      <th>assessment</th>\n",
       "      <th>pathology</th>\n",
       "      <th>subtlety</th>\n",
       "      <th>image file path</th>\n",
       "      <th>cropped image file path</th>\n",
       "      <th>ROI mask file path</th>\n",
       "    </tr>\n",
       "  </thead>\n",
       "  <tbody>\n",
       "    <tr>\n",
       "      <th>0</th>\n",
       "      <td>P_00001</td>\n",
       "      <td>3</td>\n",
       "      <td>LEFT</td>\n",
       "      <td>CC</td>\n",
       "      <td>1</td>\n",
       "      <td>mass</td>\n",
       "      <td>IRREGULAR-ARCHITECTURAL_DISTORTION</td>\n",
       "      <td>SPICULATED</td>\n",
       "      <td>4</td>\n",
       "      <td>MALIGNANT</td>\n",
       "      <td>4</td>\n",
       "      <td>Mass-Training_P_00001_LEFT_CC/1.3.6.1.4.1.9590...</td>\n",
       "      <td>Mass-Training_P_00001_LEFT_CC_1/1.3.6.1.4.1.95...</td>\n",
       "      <td>Mass-Training_P_00001_LEFT_CC_1/1.3.6.1.4.1.95...</td>\n",
       "    </tr>\n",
       "    <tr>\n",
       "      <th>1</th>\n",
       "      <td>P_00001</td>\n",
       "      <td>3</td>\n",
       "      <td>LEFT</td>\n",
       "      <td>MLO</td>\n",
       "      <td>1</td>\n",
       "      <td>mass</td>\n",
       "      <td>IRREGULAR-ARCHITECTURAL_DISTORTION</td>\n",
       "      <td>SPICULATED</td>\n",
       "      <td>4</td>\n",
       "      <td>MALIGNANT</td>\n",
       "      <td>4</td>\n",
       "      <td>Mass-Training_P_00001_LEFT_MLO/1.3.6.1.4.1.959...</td>\n",
       "      <td>Mass-Training_P_00001_LEFT_MLO_1/1.3.6.1.4.1.9...</td>\n",
       "      <td>Mass-Training_P_00001_LEFT_MLO_1/1.3.6.1.4.1.9...</td>\n",
       "    </tr>\n",
       "    <tr>\n",
       "      <th>2</th>\n",
       "      <td>P_00004</td>\n",
       "      <td>3</td>\n",
       "      <td>LEFT</td>\n",
       "      <td>CC</td>\n",
       "      <td>1</td>\n",
       "      <td>mass</td>\n",
       "      <td>ARCHITECTURAL_DISTORTION</td>\n",
       "      <td>ILL_DEFINED</td>\n",
       "      <td>4</td>\n",
       "      <td>BENIGN</td>\n",
       "      <td>3</td>\n",
       "      <td>Mass-Training_P_00004_LEFT_CC/1.3.6.1.4.1.9590...</td>\n",
       "      <td>Mass-Training_P_00004_LEFT_CC_1/1.3.6.1.4.1.95...</td>\n",
       "      <td>Mass-Training_P_00004_LEFT_CC_1/1.3.6.1.4.1.95...</td>\n",
       "    </tr>\n",
       "    <tr>\n",
       "      <th>3</th>\n",
       "      <td>P_00004</td>\n",
       "      <td>3</td>\n",
       "      <td>LEFT</td>\n",
       "      <td>MLO</td>\n",
       "      <td>1</td>\n",
       "      <td>mass</td>\n",
       "      <td>ARCHITECTURAL_DISTORTION</td>\n",
       "      <td>ILL_DEFINED</td>\n",
       "      <td>4</td>\n",
       "      <td>BENIGN</td>\n",
       "      <td>3</td>\n",
       "      <td>Mass-Training_P_00004_LEFT_MLO/1.3.6.1.4.1.959...</td>\n",
       "      <td>Mass-Training_P_00004_LEFT_MLO_1/1.3.6.1.4.1.9...</td>\n",
       "      <td>Mass-Training_P_00004_LEFT_MLO_1/1.3.6.1.4.1.9...</td>\n",
       "    </tr>\n",
       "    <tr>\n",
       "      <th>4</th>\n",
       "      <td>P_00004</td>\n",
       "      <td>3</td>\n",
       "      <td>RIGHT</td>\n",
       "      <td>MLO</td>\n",
       "      <td>1</td>\n",
       "      <td>mass</td>\n",
       "      <td>OVAL</td>\n",
       "      <td>CIRCUMSCRIBED</td>\n",
       "      <td>4</td>\n",
       "      <td>BENIGN</td>\n",
       "      <td>5</td>\n",
       "      <td>Mass-Training_P_00004_RIGHT_MLO/1.3.6.1.4.1.95...</td>\n",
       "      <td>Mass-Training_P_00004_RIGHT_MLO_1/1.3.6.1.4.1....</td>\n",
       "      <td>Mass-Training_P_00004_RIGHT_MLO_1/1.3.6.1.4.1....</td>\n",
       "    </tr>\n",
       "  </tbody>\n",
       "</table>\n",
       "</div>"
      ],
      "text/plain": [
       "  patient_id  breast_density left or right breast image view  abnormality id  \\\n",
       "0    P_00001               3                 LEFT         CC               1   \n",
       "1    P_00001               3                 LEFT        MLO               1   \n",
       "2    P_00004               3                 LEFT         CC               1   \n",
       "3    P_00004               3                 LEFT        MLO               1   \n",
       "4    P_00004               3                RIGHT        MLO               1   \n",
       "\n",
       "  abnormality type                          mass shape   mass margins  \\\n",
       "0             mass  IRREGULAR-ARCHITECTURAL_DISTORTION     SPICULATED   \n",
       "1             mass  IRREGULAR-ARCHITECTURAL_DISTORTION     SPICULATED   \n",
       "2             mass            ARCHITECTURAL_DISTORTION    ILL_DEFINED   \n",
       "3             mass            ARCHITECTURAL_DISTORTION    ILL_DEFINED   \n",
       "4             mass                                OVAL  CIRCUMSCRIBED   \n",
       "\n",
       "   assessment  pathology  subtlety  \\\n",
       "0           4  MALIGNANT         4   \n",
       "1           4  MALIGNANT         4   \n",
       "2           4     BENIGN         3   \n",
       "3           4     BENIGN         3   \n",
       "4           4     BENIGN         5   \n",
       "\n",
       "                                     image file path  \\\n",
       "0  Mass-Training_P_00001_LEFT_CC/1.3.6.1.4.1.9590...   \n",
       "1  Mass-Training_P_00001_LEFT_MLO/1.3.6.1.4.1.959...   \n",
       "2  Mass-Training_P_00004_LEFT_CC/1.3.6.1.4.1.9590...   \n",
       "3  Mass-Training_P_00004_LEFT_MLO/1.3.6.1.4.1.959...   \n",
       "4  Mass-Training_P_00004_RIGHT_MLO/1.3.6.1.4.1.95...   \n",
       "\n",
       "                             cropped image file path  \\\n",
       "0  Mass-Training_P_00001_LEFT_CC_1/1.3.6.1.4.1.95...   \n",
       "1  Mass-Training_P_00001_LEFT_MLO_1/1.3.6.1.4.1.9...   \n",
       "2  Mass-Training_P_00004_LEFT_CC_1/1.3.6.1.4.1.95...   \n",
       "3  Mass-Training_P_00004_LEFT_MLO_1/1.3.6.1.4.1.9...   \n",
       "4  Mass-Training_P_00004_RIGHT_MLO_1/1.3.6.1.4.1....   \n",
       "\n",
       "                                  ROI mask file path  \n",
       "0  Mass-Training_P_00001_LEFT_CC_1/1.3.6.1.4.1.95...  \n",
       "1  Mass-Training_P_00001_LEFT_MLO_1/1.3.6.1.4.1.9...  \n",
       "2  Mass-Training_P_00004_LEFT_CC_1/1.3.6.1.4.1.95...  \n",
       "3  Mass-Training_P_00004_LEFT_MLO_1/1.3.6.1.4.1.9...  \n",
       "4  Mass-Training_P_00004_RIGHT_MLO_1/1.3.6.1.4.1....  "
      ]
     },
     "execution_count": 27,
     "metadata": {},
     "output_type": "execute_result"
    }
   ],
   "source": [
    "mass_training_df.head(5)"
   ]
  },
  {
   "cell_type": "code",
   "execution_count": 86,
   "id": "7ad633c5",
   "metadata": {},
   "outputs": [
    {
     "data": {
      "text/plain": [
       "True"
      ]
     },
     "execution_count": 86,
     "metadata": {},
     "output_type": "execute_result"
    }
   ],
   "source": [
    "len(pics_sofar[0])<14"
   ]
  },
  {
   "cell_type": "code",
   "execution_count": 110,
   "id": "8de499b7",
   "metadata": {},
   "outputs": [
    {
     "data": {
      "text/plain": [
       "'P_00732'"
      ]
     },
     "execution_count": 110,
     "metadata": {},
     "output_type": "execute_result"
    }
   ],
   "source": [
    "pics_sofar[611][:-6]"
   ]
  },
  {
   "cell_type": "code",
   "execution_count": 103,
   "id": "497c2650",
   "metadata": {},
   "outputs": [
    {
     "data": {
      "text/plain": [
       "610"
      ]
     },
     "execution_count": 103,
     "metadata": {},
     "output_type": "execute_result"
    }
   ],
   "source": [
    "pics_sofar.index('P_01819_2.png')"
   ]
  },
  {
   "cell_type": "code",
   "execution_count": 37,
   "id": "72972bea",
   "metadata": {},
   "outputs": [
    {
     "data": {
      "text/plain": [
       "'/Users/carloscardona/Dropbox (Personal)/Programming_N_related/Startup_ideas/Breast cancer/My_own_app/Data_png/Training_patches/Malign/P_00001_1.png'"
      ]
     },
     "execution_count": 37,
     "metadata": {},
     "output_type": "execute_result"
    }
   ],
   "source": [
    "from shutil import copy\n",
    "\n",
    "path_base_data='/Users/carloscardona/Dropbox (Personal)/Programming_N_related/Startup_ideas/Breast cancer\\\n",
    "/My_own_app/Data_png/Training_patches/'\n",
    "malign_path=path_base_data+'Malign/'\n",
    "benign_path=path_base_data+'Benign/'\n",
    "#os.listdir(path_base)\n",
    "#copy(path_base_data+'P_00001_1.png',malign_path+'P_00001_1.png')\n"
   ]
  },
  {
   "cell_type": "code",
   "execution_count": 8,
   "id": "e25e95a4",
   "metadata": {},
   "outputs": [
    {
     "data": {
      "text/plain": [
       "'/Users/carloscardona/Dropbox (Personal)/Programming_N_related/Startup_ideas/Breast cancer/My_own_app/Data_png/Training_full/Malign/P_00001_1.png'"
      ]
     },
     "execution_count": 8,
     "metadata": {},
     "output_type": "execute_result"
    }
   ],
   "source": [
    "from shutil import copy\n",
    "path_base_data_full='/Users/carloscardona/Dropbox (Personal)/Programming_N_related/Startup_ideas/Breast cancer\\\n",
    "/My_own_app/Data_png/Training_full/'\n",
    "malign_path_full=path_base_data_full+'Malign/'\n",
    "benign_path_full=path_base_data_full+'Benign/'\n",
    "#os.listdir(path_base)\n",
    "copy(path_base_data_full+'P_00001_1.png',malign_path_full+'P_00001_1.png')"
   ]
  },
  {
   "cell_type": "code",
   "execution_count": 9,
   "id": "a5e66881",
   "metadata": {},
   "outputs": [],
   "source": [
    "samples=os.listdir(path_base_data_full)\n",
    "samples.remove('.DS_Store')\n",
    "samples.remove('Benign')\n",
    "samples.remove('Malign')\n",
    "n_samples=len(samples)"
   ]
  },
  {
   "cell_type": "code",
   "execution_count": 10,
   "id": "34d6d07e",
   "metadata": {},
   "outputs": [
    {
     "data": {
      "text/plain": [
       "True"
      ]
     },
     "execution_count": 10,
     "metadata": {},
     "output_type": "execute_result"
    }
   ],
   "source": [
    "mass_training_df[mass_training_df['patient_id']==samples[-1][:-6]]['pathology'].iloc[0]=='MALIGNANT'"
   ]
  },
  {
   "cell_type": "code",
   "execution_count": 11,
   "id": "5972e03a",
   "metadata": {},
   "outputs": [
    {
     "data": {
      "text/html": [
       "<div>\n",
       "<style scoped>\n",
       "    .dataframe tbody tr th:only-of-type {\n",
       "        vertical-align: middle;\n",
       "    }\n",
       "\n",
       "    .dataframe tbody tr th {\n",
       "        vertical-align: top;\n",
       "    }\n",
       "\n",
       "    .dataframe thead th {\n",
       "        text-align: right;\n",
       "    }\n",
       "</style>\n",
       "<table border=\"1\" class=\"dataframe\">\n",
       "  <thead>\n",
       "    <tr style=\"text-align: right;\">\n",
       "      <th></th>\n",
       "      <th>patient_id</th>\n",
       "      <th>breast_density</th>\n",
       "      <th>left or right breast</th>\n",
       "      <th>image view</th>\n",
       "      <th>abnormality id</th>\n",
       "      <th>abnormality type</th>\n",
       "      <th>mass shape</th>\n",
       "      <th>mass margins</th>\n",
       "      <th>assessment</th>\n",
       "      <th>pathology</th>\n",
       "      <th>subtlety</th>\n",
       "      <th>image file path</th>\n",
       "      <th>cropped image file path</th>\n",
       "      <th>ROI mask file path</th>\n",
       "    </tr>\n",
       "  </thead>\n",
       "  <tbody>\n",
       "    <tr>\n",
       "      <th>514</th>\n",
       "      <td>P_00732</td>\n",
       "      <td>2</td>\n",
       "      <td>LEFT</td>\n",
       "      <td>CC</td>\n",
       "      <td>1</td>\n",
       "      <td>mass</td>\n",
       "      <td>IRREGULAR</td>\n",
       "      <td>SPICULATED</td>\n",
       "      <td>5</td>\n",
       "      <td>MALIGNANT</td>\n",
       "      <td>5</td>\n",
       "      <td>Mass-Training_P_00732_LEFT_CC/1.3.6.1.4.1.9590...</td>\n",
       "      <td>Mass-Training_P_00732_LEFT_CC_1/1.3.6.1.4.1.95...</td>\n",
       "      <td>Mass-Training_P_00732_LEFT_CC_1/1.3.6.1.4.1.95...</td>\n",
       "    </tr>\n",
       "    <tr>\n",
       "      <th>515</th>\n",
       "      <td>P_00732</td>\n",
       "      <td>2</td>\n",
       "      <td>LEFT</td>\n",
       "      <td>MLO</td>\n",
       "      <td>1</td>\n",
       "      <td>mass</td>\n",
       "      <td>IRREGULAR</td>\n",
       "      <td>SPICULATED</td>\n",
       "      <td>5</td>\n",
       "      <td>MALIGNANT</td>\n",
       "      <td>5</td>\n",
       "      <td>Mass-Training_P_00732_LEFT_MLO/1.3.6.1.4.1.959...</td>\n",
       "      <td>Mass-Training_P_00732_LEFT_MLO_1/1.3.6.1.4.1.9...</td>\n",
       "      <td>Mass-Training_P_00732_LEFT_MLO_1/1.3.6.1.4.1.9...</td>\n",
       "    </tr>\n",
       "  </tbody>\n",
       "</table>\n",
       "</div>"
      ],
      "text/plain": [
       "    patient_id  breast_density left or right breast image view  \\\n",
       "514    P_00732               2                 LEFT         CC   \n",
       "515    P_00732               2                 LEFT        MLO   \n",
       "\n",
       "     abnormality id abnormality type mass shape mass margins  assessment  \\\n",
       "514               1             mass  IRREGULAR   SPICULATED           5   \n",
       "515               1             mass  IRREGULAR   SPICULATED           5   \n",
       "\n",
       "     pathology  subtlety                                    image file path  \\\n",
       "514  MALIGNANT         5  Mass-Training_P_00732_LEFT_CC/1.3.6.1.4.1.9590...   \n",
       "515  MALIGNANT         5  Mass-Training_P_00732_LEFT_MLO/1.3.6.1.4.1.959...   \n",
       "\n",
       "                               cropped image file path  \\\n",
       "514  Mass-Training_P_00732_LEFT_CC_1/1.3.6.1.4.1.95...   \n",
       "515  Mass-Training_P_00732_LEFT_MLO_1/1.3.6.1.4.1.9...   \n",
       "\n",
       "                                    ROI mask file path  \n",
       "514  Mass-Training_P_00732_LEFT_CC_1/1.3.6.1.4.1.95...  \n",
       "515  Mass-Training_P_00732_LEFT_MLO_1/1.3.6.1.4.1.9...  "
      ]
     },
     "execution_count": 11,
     "metadata": {},
     "output_type": "execute_result"
    }
   ],
   "source": [
    "mass_training_df[mass_training_df['patient_id']=='P_00732']"
   ]
  },
  {
   "cell_type": "code",
   "execution_count": null,
   "id": "6135d35b",
   "metadata": {},
   "outputs": [],
   "source": [
    "P_01819_2.png BENIGN_WITHOUT_CALLBACK 610"
   ]
  },
  {
   "cell_type": "code",
   "execution_count": 127,
   "id": "bcc8bfe7",
   "metadata": {},
   "outputs": [
    {
     "data": {
      "text/html": [
       "<div>\n",
       "<style scoped>\n",
       "    .dataframe tbody tr th:only-of-type {\n",
       "        vertical-align: middle;\n",
       "    }\n",
       "\n",
       "    .dataframe tbody tr th {\n",
       "        vertical-align: top;\n",
       "    }\n",
       "\n",
       "    .dataframe thead th {\n",
       "        text-align: right;\n",
       "    }\n",
       "</style>\n",
       "<table border=\"1\" class=\"dataframe\">\n",
       "  <thead>\n",
       "    <tr style=\"text-align: right;\">\n",
       "      <th></th>\n",
       "      <th>patient_id</th>\n",
       "      <th>breast_density</th>\n",
       "      <th>left or right breast</th>\n",
       "      <th>image view</th>\n",
       "      <th>abnormality id</th>\n",
       "      <th>abnormality type</th>\n",
       "      <th>mass shape</th>\n",
       "      <th>mass margins</th>\n",
       "      <th>assessment</th>\n",
       "      <th>pathology</th>\n",
       "      <th>subtlety</th>\n",
       "      <th>image file path</th>\n",
       "      <th>cropped image file path</th>\n",
       "      <th>ROI mask file path</th>\n",
       "    </tr>\n",
       "  </thead>\n",
       "  <tbody>\n",
       "  </tbody>\n",
       "</table>\n",
       "</div>"
      ],
      "text/plain": [
       "Empty DataFrame\n",
       "Columns: [patient_id, breast_density, left or right breast, image view, abnormality id, abnormality type, mass shape, mass margins, assessment, pathology, subtlety, image file path, cropped image file path, ROI mask file path]\n",
       "Index: []"
      ]
     },
     "execution_count": 127,
     "metadata": {},
     "output_type": "execute_result"
    }
   ],
   "source": [
    "mass_training_df[mass_training_df['patient_id']==samples[610][:-6]]"
   ]
  },
  {
   "cell_type": "markdown",
   "id": "b5dfff05",
   "metadata": {},
   "source": [
    "Lets count how many classes he have"
   ]
  },
  {
   "cell_type": "code",
   "execution_count": 61,
   "id": "94afd9ea",
   "metadata": {},
   "outputs": [
    {
     "data": {
      "text/plain": [
       "pathology\n",
       "BENIGN                     577\n",
       "BENIGN_WITHOUT_CALLBACK    104\n",
       "MALIGNANT                  637\n",
       "Name: patient_id, dtype: int64"
      ]
     },
     "execution_count": 61,
     "metadata": {},
     "output_type": "execute_result"
    }
   ],
   "source": [
    "mass_training_df.groupby(['pathology'])['patient_id'].count()   "
   ]
  },
  {
   "cell_type": "code",
   "execution_count": 12,
   "id": "b87f9aec",
   "metadata": {},
   "outputs": [],
   "source": [
    "#n=0\n",
    "for item in samples:\n",
    "    if len(item)<14:\n",
    "        clase=mass_training_df[mass_training_df['patient_id']==item[:-6]]['pathology'].iloc[0]\n",
    "        if clase=='BENIGN' or clase=='BENIGN_WITHOUT_CALLBACK':\n",
    "            copy(path_base_data_full+item,benign_path_full+item)\n",
    "        else:\n",
    "            copy(path_base_data_full+item,malign_path_full+item)\n",
    "            \n",
    "    else:\n",
    "        clase=mass_training_df[mass_training_df['patient_id']==item[:-7]]['pathology'].iloc[0]\n",
    "        if clase=='BENIGN' or clase=='BENIGN_WITHOUT_CALLBACK':\n",
    "            copy(path_base_data_full+item,benign_path_full+item)\n",
    "        else:\n",
    "            copy(path_base_data_full+item,malign_path_full+item)\n",
    "    #clase=='MALIGNANT'"
   ]
  },
  {
   "cell_type": "markdown",
   "id": "cb061666",
   "metadata": {},
   "source": [
    "Lets check that the folder are correctly classified:"
   ]
  },
  {
   "cell_type": "code",
   "execution_count": 14,
   "id": "180bfb18",
   "metadata": {},
   "outputs": [],
   "source": [
    "benigns=os.listdir(benign_path_full)\n",
    "for item in benigns:\n",
    "    if len(item)<14:\n",
    "        clase=mass_training_df[mass_training_df['patient_id']==item[:-6]]['pathology'].iloc[0]          \n",
    "    else:\n",
    "        clase=mass_training_df[mass_training_df['patient_id']==item[:-7]]['pathology'].iloc[0]\n",
    "    if clase=='MALIGNANT':\n",
    "        print(\"Folders are wrong\")"
   ]
  },
  {
   "cell_type": "code",
   "execution_count": null,
   "id": "6d133a0b",
   "metadata": {},
   "outputs": [],
   "source": [
    "benigns=os.listdir(benign_path)\n",
    "for item in benigns:\n",
    "    if len(item)<14:\n",
    "        clase=mass_training_df[mass_training_df['patient_id']==item[:-6]]['pathology'].iloc[0]          \n",
    "    else:\n",
    "        clase=mass_training_df[mass_training_df['patient_id']==item[:-7]]['pathology'].iloc[0]\n",
    "    if clase=='MALIGNANT':\n",
    "        print(\"Folders are wrong\")"
   ]
  },
  {
   "cell_type": "raw",
   "id": "94ec5b48",
   "metadata": {},
   "source": [
    "maligns=os.listdir(malign_path)\n",
    "for item in maligns:\n",
    "    if len(item)<14:\n",
    "        clase=mass_training_df[mass_training_df['patient_id']==item[:-6]]['pathology'].iloc[0]          \n",
    "    else:\n",
    "        clase=mass_training_df[mass_training_df['patient_id']==item[:-7]]['pathology'].iloc[0]\n",
    "    print(clase)"
   ]
  },
  {
   "cell_type": "markdown",
   "id": "1ff8f508",
   "metadata": {},
   "source": [
    "## Test split"
   ]
  },
  {
   "cell_type": "code",
   "execution_count": 9,
   "id": "74913b7f",
   "metadata": {},
   "outputs": [
    {
     "data": {
      "text/plain": [
       "'/Users/carloscardona/Dropbox (Personal)/Programming_N_related/Startup_ideas/Breast cancer/My_own_app/Data_png/Test_patches/Malign/P_01912_4.png'"
      ]
     },
     "execution_count": 9,
     "metadata": {},
     "output_type": "execute_result"
    }
   ],
   "source": [
    "from shutil import copy\n",
    "\n",
    "path_base_test_data='/Users/carloscardona/Dropbox (Personal)/Programming_N_related/Startup_ideas/Breast cancer\\\n",
    "/My_own_app/Data_png/Test_patches/'\n",
    "malign_path=path_base_test_data+'Malign/'\n",
    "benign_path=path_base_test_data+'Benign/'\n",
    "#os.listdir(path_base)\n",
    "copy(path_base_data+'P_01912_4.png',malign_path+'P_01912_4.png')"
   ]
  },
  {
   "cell_type": "code",
   "execution_count": 10,
   "id": "efc9fcf1",
   "metadata": {},
   "outputs": [],
   "source": [
    "samples=os.listdir(path_base_test_data)\n",
    "samples.remove('.DS_Store')\n",
    "samples.remove('Benign')\n",
    "samples.remove('Malign')\n",
    "n_samples=len(samples)"
   ]
  },
  {
   "cell_type": "code",
   "execution_count": 11,
   "id": "90915f10",
   "metadata": {},
   "outputs": [
    {
     "data": {
      "text/plain": [
       "True"
      ]
     },
     "execution_count": 11,
     "metadata": {},
     "output_type": "execute_result"
    }
   ],
   "source": [
    "mass_test_df[mass_test_df['patient_id']==samples[-1][:-6]]['pathology'].iloc[0]=='MALIGNANT'"
   ]
  },
  {
   "cell_type": "code",
   "execution_count": 13,
   "id": "5899e06e",
   "metadata": {},
   "outputs": [
    {
     "data": {
      "text/html": [
       "<div>\n",
       "<style scoped>\n",
       "    .dataframe tbody tr th:only-of-type {\n",
       "        vertical-align: middle;\n",
       "    }\n",
       "\n",
       "    .dataframe tbody tr th {\n",
       "        vertical-align: top;\n",
       "    }\n",
       "\n",
       "    .dataframe thead th {\n",
       "        text-align: right;\n",
       "    }\n",
       "</style>\n",
       "<table border=\"1\" class=\"dataframe\">\n",
       "  <thead>\n",
       "    <tr style=\"text-align: right;\">\n",
       "      <th></th>\n",
       "      <th>patient_id</th>\n",
       "      <th>breast_density</th>\n",
       "      <th>left or right breast</th>\n",
       "      <th>image view</th>\n",
       "      <th>abnormality id</th>\n",
       "      <th>abnormality type</th>\n",
       "      <th>mass shape</th>\n",
       "      <th>mass margins</th>\n",
       "      <th>assessment</th>\n",
       "      <th>pathology</th>\n",
       "      <th>subtlety</th>\n",
       "      <th>image file path</th>\n",
       "      <th>cropped image file path</th>\n",
       "      <th>ROI mask file path</th>\n",
       "    </tr>\n",
       "  </thead>\n",
       "  <tbody>\n",
       "  </tbody>\n",
       "</table>\n",
       "</div>"
      ],
      "text/plain": [
       "Empty DataFrame\n",
       "Columns: [patient_id, breast_density, left or right breast, image view, abnormality id, abnormality type, mass shape, mass margins, assessment, pathology, subtlety, image file path, cropped image file path, ROI mask file path]\n",
       "Index: []"
      ]
     },
     "execution_count": 13,
     "metadata": {},
     "output_type": "execute_result"
    }
   ],
   "source": [
    "mass_test_df[mass_test_df['patient_id']=='P_00732']"
   ]
  },
  {
   "cell_type": "code",
   "execution_count": null,
   "id": "ff103f53",
   "metadata": {},
   "outputs": [],
   "source": [
    "P_01819_2.png BENIGN_WITHOUT_CALLBACK 610"
   ]
  },
  {
   "cell_type": "code",
   "execution_count": 127,
   "id": "db0f3b6f",
   "metadata": {},
   "outputs": [
    {
     "data": {
      "text/html": [
       "<div>\n",
       "<style scoped>\n",
       "    .dataframe tbody tr th:only-of-type {\n",
       "        vertical-align: middle;\n",
       "    }\n",
       "\n",
       "    .dataframe tbody tr th {\n",
       "        vertical-align: top;\n",
       "    }\n",
       "\n",
       "    .dataframe thead th {\n",
       "        text-align: right;\n",
       "    }\n",
       "</style>\n",
       "<table border=\"1\" class=\"dataframe\">\n",
       "  <thead>\n",
       "    <tr style=\"text-align: right;\">\n",
       "      <th></th>\n",
       "      <th>patient_id</th>\n",
       "      <th>breast_density</th>\n",
       "      <th>left or right breast</th>\n",
       "      <th>image view</th>\n",
       "      <th>abnormality id</th>\n",
       "      <th>abnormality type</th>\n",
       "      <th>mass shape</th>\n",
       "      <th>mass margins</th>\n",
       "      <th>assessment</th>\n",
       "      <th>pathology</th>\n",
       "      <th>subtlety</th>\n",
       "      <th>image file path</th>\n",
       "      <th>cropped image file path</th>\n",
       "      <th>ROI mask file path</th>\n",
       "    </tr>\n",
       "  </thead>\n",
       "  <tbody>\n",
       "  </tbody>\n",
       "</table>\n",
       "</div>"
      ],
      "text/plain": [
       "Empty DataFrame\n",
       "Columns: [patient_id, breast_density, left or right breast, image view, abnormality id, abnormality type, mass shape, mass margins, assessment, pathology, subtlety, image file path, cropped image file path, ROI mask file path]\n",
       "Index: []"
      ]
     },
     "execution_count": 127,
     "metadata": {},
     "output_type": "execute_result"
    }
   ],
   "source": [
    "mass_test_df[mass_test_df['patient_id']==samples[610][:-6]]"
   ]
  },
  {
   "cell_type": "code",
   "execution_count": 128,
   "id": "6503b10b",
   "metadata": {},
   "outputs": [
    {
     "data": {
      "text/plain": [
       "'Benign'"
      ]
     },
     "execution_count": 128,
     "metadata": {},
     "output_type": "execute_result"
    }
   ],
   "source": [
    "samples[610]"
   ]
  },
  {
   "cell_type": "markdown",
   "id": "a42c68b9",
   "metadata": {},
   "source": [
    "Lets count how many classes he have"
   ]
  },
  {
   "cell_type": "code",
   "execution_count": 14,
   "id": "bf457f49",
   "metadata": {},
   "outputs": [
    {
     "data": {
      "text/plain": [
       "pathology\n",
       "BENIGN                     194\n",
       "BENIGN_WITHOUT_CALLBACK     37\n",
       "MALIGNANT                  147\n",
       "Name: patient_id, dtype: int64"
      ]
     },
     "execution_count": 14,
     "metadata": {},
     "output_type": "execute_result"
    }
   ],
   "source": [
    "mass_test_df.groupby(['pathology'])['patient_id'].count()   "
   ]
  },
  {
   "cell_type": "markdown",
   "id": "b9f94082",
   "metadata": {},
   "source": [
    "### Test full split"
   ]
  },
  {
   "cell_type": "code",
   "execution_count": 9,
   "id": "0758ee75",
   "metadata": {},
   "outputs": [],
   "source": [
    "from shutil import copy\n",
    "path_base_data_full='/Users/carloscardona/Dropbox (Personal)/Programming_N_related/Startup_ideas/Breast cancer\\\n",
    "/My_own_app/Data_png/Test_full/'\n",
    "malign_path_full=path_base_data_full+'Malign/'\n",
    "benign_path_full=path_base_data_full+'Benign/'\n",
    "#os.listdir(path_base)\n",
    "#copy(path_base_data_full+'P_00387_2.png',malign_path_full+'P_00387_2.png')"
   ]
  },
  {
   "cell_type": "code",
   "execution_count": 10,
   "id": "ab87a32c",
   "metadata": {},
   "outputs": [],
   "source": [
    "samples=os.listdir(path_base_data_full)\n",
    "samples.remove('.DS_Store')\n",
    "samples.remove('Benign')\n",
    "samples.remove('Malign')\n",
    "n_samples=len(samples)"
   ]
  },
  {
   "cell_type": "code",
   "execution_count": 11,
   "id": "c34d6d3c",
   "metadata": {},
   "outputs": [],
   "source": [
    "#n=0\n",
    "for item in samples:\n",
    "    if len(item)<14:\n",
    "        clase=mass_test_df[mass_test_df['patient_id']==item[:-6]]['pathology'].iloc[0]\n",
    "        if clase=='BENIGN' or clase=='BENIGN_WITHOUT_CALLBACK':\n",
    "            copy(path_base_data_full+item,benign_path_full+item)\n",
    "        else:\n",
    "            copy(path_base_data_full+item,malign_path_full+item)\n",
    "            \n",
    "    else:\n",
    "        clase=mass_test_df[mass_test_df['patient_id']==item[:-7]]['pathology'].iloc[0]\n",
    "        if clase=='BENIGN' or clase=='BENIGN_WITHOUT_CALLBACK':\n",
    "            copy(path_base_data_full+item,benign_path_full+item)\n",
    "        else:\n",
    "            copy(path_base_data_full+item,malign_path_full+item)\n",
    "    #clase=='MALIGNANT'"
   ]
  },
  {
   "cell_type": "markdown",
   "id": "8432f649",
   "metadata": {},
   "source": [
    "Lets check that the folder are correctly classified:"
   ]
  },
  {
   "cell_type": "code",
   "execution_count": 16,
   "id": "76729a0b",
   "metadata": {},
   "outputs": [],
   "source": [
    "benigns=os.listdir(benign_path)\n",
    "for item in benigns:\n",
    "    if len(item)<14:\n",
    "        clase=mass_test_df[mass_test_df['patient_id']==item[:-6]]['pathology'].iloc[0]          \n",
    "    else:\n",
    "        clase=mass_test_df[mass_test_df['patient_id']==item[:-7]]['pathology'].iloc[0]\n",
    "    if clase=='MALIGNANT':\n",
    "        print(\"Folders are wrong\")"
   ]
  },
  {
   "cell_type": "raw",
   "id": "2c79f42c",
   "metadata": {},
   "source": [
    "maligns=os.listdir(malign_path)\n",
    "for item in maligns:\n",
    "    if len(item)<14:\n",
    "        clase=mass_test_df[mass_test_df['patient_id']==item[:-6]]['pathology'].iloc[0]          \n",
    "    else:\n",
    "        clase=mass_test_df[mass_test_df['patient_id']==item[:-7]]['pathology'].iloc[0]\n",
    "    print(clase)"
   ]
  },
  {
   "cell_type": "code",
   "execution_count": null,
   "id": "10199f54",
   "metadata": {},
   "outputs": [],
   "source": [
    "#n=0\n",
    "for item in samples:\n",
    "    if len(item)<14:\n",
    "        clase=mass_test_df[mass_test_df['patient_id']==item[:-6]]['pathology'].iloc[0]\n",
    "        if clase=='BENIGN' or clase=='BENIGN_WITHOUT_CALLBACK':\n",
    "            copy(path_base_test_data+item,benign_path+item)\n",
    "        else:\n",
    "            copy(path_base_test_data+item,malign_path+item)\n",
    "            \n",
    "    else:\n",
    "        clase=mass_test_df[mass_test_df['patient_id']==item[:-7]]['pathology'].iloc[0]\n",
    "        if clase=='BENIGN' or clase=='BENIGN_WITHOUT_CALLBACK':\n",
    "            copy(path_base_test_data+item,benign_path+item)\n",
    "        else:\n",
    "            copy(path_base_test_data+item,malign_path+item)\n",
    "    #clase=='MALIGNANT'"
   ]
  },
  {
   "cell_type": "markdown",
   "id": "443727d3",
   "metadata": {},
   "source": [
    "We are going to start by training only with the cropped images, i.e. patches, and later will try to generalize to full images. \n",
    "\n",
    "We are going to prove as many models as possible, including more classical ML that are not DL."
   ]
  },
  {
   "cell_type": "markdown",
   "id": "cd57f5fa",
   "metadata": {},
   "source": [
    "# About pycom\n",
    "[Core elements](https://pydicom.github.io/pydicom/stable/old/base_element.html)"
   ]
  },
  {
   "cell_type": "code",
   "execution_count": null,
   "id": "ba6e70da",
   "metadata": {},
   "outputs": [],
   "source": [
    "Mass-Training_P_00001_LEFT_CC_1/07-21-2016-DDSM-NA-39106/1.000000-ROI mask images-99650/1-2.dcm\n",
    "Mass-Training_P_00001_LEFT_CC_1/07-21-2016-DDSM-NA-39106/1.000000-ROI mask images-99650/1-1.dcm"
   ]
  },
  {
   "cell_type": "code",
   "execution_count": 16,
   "id": "b323f51a",
   "metadata": {},
   "outputs": [],
   "source": [
    "import pydicom\n",
    "path1='/Users/carloscardona/Dropbox (Personal)/Programming_N_related/Startup_ideas/Breast cancer\\\n",
    "/data_CBIS-DDSM/manifest-LyDgOQGl3853937313152078328/CBIS-DDSM/Mass-Training_P_00001_LEFT_CC_1\\\n",
    "/07-21-2016-DDSM-NA-39106/1.000000-ROI mask images-99650/'\n",
    "mammo_cont1=pydicom.dcmread(path1+'1-1.dcm')\n",
    "mammo_cont2=pydicom.dcmread(path1+'1-2.dcm')"
   ]
  },
  {
   "cell_type": "code",
   "execution_count": 17,
   "id": "7efeaaed",
   "metadata": {},
   "outputs": [
    {
     "data": {
      "text/plain": [
       "Dataset.file_meta -------------------------------\n",
       "(0002, 0000) File Meta Information Group Length  UL: 194\n",
       "(0002, 0001) File Meta Information Version       OB: b'\\x00\\x01'\n",
       "(0002, 0002) Media Storage SOP Class UID         UI: Secondary Capture Image Storage\n",
       "(0002, 0003) Media Storage SOP Instance UID      UI: 1.3.6.1.4.1.9590.100.1.2.14875889413880494636004673850848948118\n",
       "(0002, 0010) Transfer Syntax UID                 UI: Implicit VR Little Endian\n",
       "(0002, 0012) Implementation Class UID            UI: 1.2.40.0.13.1.1.1\n",
       "(0002, 0013) Implementation Version Name         SH: 'dcm4che-1.4.35'\n",
       "-------------------------------------------------\n",
       "(0008, 0005) Specific Character Set              CS: 'ISO_IR 100'\n",
       "(0008, 0016) SOP Class UID                       UI: Secondary Capture Image Storage\n",
       "(0008, 0018) SOP Instance UID                    UI: 1.3.6.1.4.1.9590.100.1.2.14875889413880494636004673850848948118\n",
       "(0008, 0020) Study Date                          DA: '20160721'\n",
       "(0008, 0023) Content Date                        DA: '20160414'\n",
       "(0008, 0030) Study Time                          TM: '082651'\n",
       "(0008, 0033) Content Time                        TM: '121703.122000'\n",
       "(0008, 0050) Accession Number                    SH: ''\n",
       "(0008, 0060) Modality                            CS: 'MG'\n",
       "(0008, 0064) Conversion Type                     CS: 'WSD'\n",
       "(0008, 0090) Referring Physician's Name          PN: ''\n",
       "(0008, 103e) Series Description                  LO: 'ROI mask images'\n",
       "(0010, 0010) Patient's Name                      PN: 'Mass-Training_P_00001_LEFT_CC_1'\n",
       "(0010, 0020) Patient ID                          LO: 'Mass-Training_P_00001_LEFT_CC_1'\n",
       "(0010, 0030) Patient's Birth Date                DA: ''\n",
       "(0010, 0040) Patient's Sex                       CS: ''\n",
       "(0013, 0010) Private Creator                     LO: 'CTP'\n",
       "(0013, 1010) Private tag data                    UN: b'CBIS-DDSM '\n",
       "(0013, 1013) Private tag data                    UN: b'43352602'\n",
       "(0018, 0015) Body Part Examined                  CS: 'BREAST'\n",
       "(0018, 1016) Secondary Capture Device Manufactur LO: 'MathWorks'\n",
       "(0018, 1018) Secondary Capture Device Manufactur LO: 'MATLAB'\n",
       "(0020, 000d) Study Instance UID                  UI: 1.3.6.1.4.1.9590.100.1.2.108268213011361124203859148071588939106\n",
       "(0020, 000e) Series Instance UID                 UI: 1.3.6.1.4.1.9590.100.1.2.296736403313792599626368780122205399650\n",
       "(0020, 0010) Study ID                            SH: 'DDSM'\n",
       "(0020, 0011) Series Number                       IS: '1'\n",
       "(0020, 0013) Instance Number                     IS: '1'\n",
       "(0020, 0020) Patient Orientation                 CS: 'CC'\n",
       "(0020, 0060) Laterality                          CS: 'L'\n",
       "(0028, 0002) Samples per Pixel                   US: 1\n",
       "(0028, 0004) Photometric Interpretation          CS: 'MONOCHROME2'\n",
       "(0028, 0010) Rows                                US: 4808\n",
       "(0028, 0011) Columns                             US: 3024\n",
       "(0028, 0100) Bits Allocated                      US: 8\n",
       "(0028, 0101) Bits Stored                         US: 8\n",
       "(0028, 0102) High Bit                            US: 7\n",
       "(0028, 0103) Pixel Representation                US: 0\n",
       "(0028, 0106) Smallest Image Pixel Value          US: 0\n",
       "(0028, 0107) Largest Image Pixel Value           US: 255\n",
       "(7fe0, 0010) Pixel Data                          OW: Array of 14539392 elements"
      ]
     },
     "execution_count": 17,
     "metadata": {},
     "output_type": "execute_result"
    }
   ],
   "source": [
    "mammo_cont1"
   ]
  },
  {
   "cell_type": "code",
   "execution_count": 18,
   "id": "d230d41a",
   "metadata": {},
   "outputs": [
    {
     "data": {
      "text/plain": [
       "'cropped images'"
      ]
     },
     "execution_count": 18,
     "metadata": {},
     "output_type": "execute_result"
    }
   ],
   "source": [
    "mammo_cont2.SeriesDescription"
   ]
  },
  {
   "cell_type": "code",
   "execution_count": 24,
   "id": "eef0c7c6",
   "metadata": {},
   "outputs": [
    {
     "data": {
      "text/plain": [
       "['PatientBirthDate',\n",
       " 'PatientID',\n",
       " 'PatientName',\n",
       " 'PatientOrientation',\n",
       " 'PatientSex']"
      ]
     },
     "execution_count": 24,
     "metadata": {},
     "output_type": "execute_result"
    }
   ],
   "source": [
    "mammo_cont1.dir('pat')"
   ]
  },
  {
   "cell_type": "code",
   "execution_count": 24,
   "id": "520d35b8",
   "metadata": {},
   "outputs": [
    {
     "data": {
      "text/plain": [
       "True"
      ]
     },
     "execution_count": 24,
     "metadata": {},
     "output_type": "execute_result"
    }
   ],
   "source": [
    "mammo_cont1.SeriesDescription != 'cropped images'"
   ]
  },
  {
   "cell_type": "markdown",
   "id": "5daf2306",
   "metadata": {},
   "source": [
    "<font color=\"red\"> <font size=\"5\">What about INbreast dataset </font> "
   ]
  },
  {
   "cell_type": "code",
   "execution_count": 21,
   "id": "a2ad758d",
   "metadata": {},
   "outputs": [],
   "source": [
    "path_inbreast=\"/Users/carloscardona/Dropbox (Personal)/Programming_N_related/Startup_ideas/Breast cancer\\\n",
    "/data_INbreast/INbreast Release 1.0/\"\n",
    "df_inbreast=pd.read_csv(path_inbreast+'INbreast.csv', sep=';')"
   ]
  },
  {
   "cell_type": "code",
   "execution_count": 22,
   "id": "7d4ef789",
   "metadata": {},
   "outputs": [
    {
     "data": {
      "text/html": [
       "<div>\n",
       "<style scoped>\n",
       "    .dataframe tbody tr th:only-of-type {\n",
       "        vertical-align: middle;\n",
       "    }\n",
       "\n",
       "    .dataframe tbody tr th {\n",
       "        vertical-align: top;\n",
       "    }\n",
       "\n",
       "    .dataframe thead th {\n",
       "        text-align: right;\n",
       "    }\n",
       "</style>\n",
       "<table border=\"1\" class=\"dataframe\">\n",
       "  <thead>\n",
       "    <tr style=\"text-align: right;\">\n",
       "      <th></th>\n",
       "      <th>Patient ID</th>\n",
       "      <th>Patient age</th>\n",
       "      <th>Laterality</th>\n",
       "      <th>View</th>\n",
       "      <th>Acquisition date</th>\n",
       "      <th>File Name</th>\n",
       "      <th>ACR</th>\n",
       "      <th>Bi-Rads</th>\n",
       "    </tr>\n",
       "  </thead>\n",
       "  <tbody>\n",
       "    <tr>\n",
       "      <th>0</th>\n",
       "      <td>removed</td>\n",
       "      <td>removed</td>\n",
       "      <td>R</td>\n",
       "      <td>CC</td>\n",
       "      <td>201001</td>\n",
       "      <td>22678622</td>\n",
       "      <td>4</td>\n",
       "      <td>1</td>\n",
       "    </tr>\n",
       "    <tr>\n",
       "      <th>1</th>\n",
       "      <td>removed</td>\n",
       "      <td>removed</td>\n",
       "      <td>L</td>\n",
       "      <td>CC</td>\n",
       "      <td>201001</td>\n",
       "      <td>22678646</td>\n",
       "      <td>4</td>\n",
       "      <td>3</td>\n",
       "    </tr>\n",
       "    <tr>\n",
       "      <th>2</th>\n",
       "      <td>removed</td>\n",
       "      <td>removed</td>\n",
       "      <td>R</td>\n",
       "      <td>MLO</td>\n",
       "      <td>201001</td>\n",
       "      <td>22678670</td>\n",
       "      <td>4</td>\n",
       "      <td>1</td>\n",
       "    </tr>\n",
       "    <tr>\n",
       "      <th>3</th>\n",
       "      <td>removed</td>\n",
       "      <td>removed</td>\n",
       "      <td>L</td>\n",
       "      <td>MLO</td>\n",
       "      <td>201001</td>\n",
       "      <td>22678694</td>\n",
       "      <td>4</td>\n",
       "      <td>3</td>\n",
       "    </tr>\n",
       "    <tr>\n",
       "      <th>4</th>\n",
       "      <td>removed</td>\n",
       "      <td>removed</td>\n",
       "      <td>R</td>\n",
       "      <td>CC</td>\n",
       "      <td>201001</td>\n",
       "      <td>22614074</td>\n",
       "      <td>2</td>\n",
       "      <td>5</td>\n",
       "    </tr>\n",
       "  </tbody>\n",
       "</table>\n",
       "</div>"
      ],
      "text/plain": [
       "  Patient ID Patient age Laterality View  Acquisition date  File Name ACR  \\\n",
       "0    removed     removed          R   CC            201001   22678622   4   \n",
       "1    removed     removed          L   CC            201001   22678646   4   \n",
       "2    removed     removed          R  MLO            201001   22678670   4   \n",
       "3    removed     removed          L  MLO            201001   22678694   4   \n",
       "4    removed     removed          R   CC            201001   22614074   2   \n",
       "\n",
       "  Bi-Rads  \n",
       "0       1  \n",
       "1       3  \n",
       "2       1  \n",
       "3       3  \n",
       "4       5  "
      ]
     },
     "execution_count": 22,
     "metadata": {},
     "output_type": "execute_result"
    }
   ],
   "source": [
    "df_inbreast.head()"
   ]
  },
  {
   "cell_type": "code",
   "execution_count": 34,
   "id": "6d16c60f",
   "metadata": {},
   "outputs": [
    {
     "data": {
      "text/plain": [
       "412"
      ]
     },
     "execution_count": 34,
     "metadata": {},
     "output_type": "execute_result"
    }
   ],
   "source": [
    "path_inbreast_dcms=\"/Users/carloscardona/Dropbox (Personal)/Programming_N_related/Startup_ideas/Breast cancer\\\n",
    "/data_INbreast/INbreast Release 1.0/AllDICOMs/\"\n",
    "file_list_inbreast_AllDicoms=os.listdir(path_inbreast_dcms)\n",
    "len(file_list_inbreast_AllDicoms)"
   ]
  },
  {
   "cell_type": "code",
   "execution_count": 33,
   "id": "5a5dfecd",
   "metadata": {},
   "outputs": [
    {
     "data": {
      "image/png": "[encoded data removed]",
      "text/plain": [
       "<Figure size 1000x1000 with 9 Axes>"
      ]
     },
     "metadata": {},
     "output_type": "display_data"
    }
   ],
   "source": [
    "import pydicom\n",
    "import matplotlib.pyplot as plt\n",
    "\n",
    "plt.figure(figsize=(10, 10))\n",
    "# for i in range(9):\n",
    "    \n",
    "#     plt.imshow(images[i].numpy().astype(\"uint8\"))\n",
    "#     plt.title(int(labels[i]))\n",
    "#     plt.axis(\"off\")\n",
    "for i in range(9):\n",
    "    ax = plt.subplot(3, 3, i + 1)\n",
    "    mammo_inbrest_ex=pydicom.dcmread(path_inbreast_dcms+file_list_inbreast_AllDicoms[i])\n",
    "    mammo_inbrest_ex_array = mammo_inbrest_ex.pixel_array\n",
    "    plt.imshow(mammo_inbrest_ex_array, cmap='gray')\n",
    "    plt.axis(\"off\")"
   ]
  },
  {
   "cell_type": "code",
   "execution_count": 17,
   "id": "3085e75e",
   "metadata": {},
   "outputs": [],
   "source": [
    "import pydicom\n",
    "import cv2\n",
    "import numpy as np\n",
    "import matplotlib.pyplot as plt\n",
    "#import dicom\n",
    "dicom_path=\"/Users/carloscardona/Downloads/1-1.dcm\""
   ]
  },
  {
   "cell_type": "code",
   "execution_count": 25,
   "id": "07d2df93",
   "metadata": {},
   "outputs": [
    {
     "name": "stdout",
     "output_type": "stream",
     "text": [
      "usage: pydicom [-h] {help,codify,show} ...\r\n",
      "pydicom: error: argument {help,codify,show}: invalid choice: '!--version' (choose from 'help', 'codify', 'show')\r\n"
     ]
    }
   ],
   "source": [
    "!pydicom --version"
   ]
  },
  {
   "cell_type": "code",
   "execution_count": 18,
   "id": "123a8f12",
   "metadata": {},
   "outputs": [
    {
     "data": {
      "text/plain": [
       "Dataset.file_meta -------------------------------\n",
       "(0002, 0000) File Meta Information Group Length  UL: 194\n",
       "(0002, 0001) File Meta Information Version       OB: b'\\x00\\x01'\n",
       "(0002, 0002) Media Storage SOP Class UID         UI: Secondary Capture Image Storage\n",
       "(0002, 0003) Media Storage SOP Instance UID      UI: 1.3.6.1.4.1.9590.100.1.2.146706979013437278601966460222651571841\n",
       "(0002, 0010) Transfer Syntax UID                 UI: Implicit VR Little Endian\n",
       "(0002, 0012) Implementation Class UID            UI: 1.2.40.0.13.1.1.1\n",
       "(0002, 0013) Implementation Version Name         SH: 'dcm4che-1.4.35'\n",
       "-------------------------------------------------\n",
       "(0008, 0005) Specific Character Set              CS: 'ISO_IR 100'\n",
       "(0008, 0016) SOP Class UID                       UI: Secondary Capture Image Storage\n",
       "(0008, 0018) SOP Instance UID                    UI: 1.3.6.1.4.1.9590.100.1.2.146706979013437278601966460222651571841\n",
       "(0008, 0020) Study Date                          DA: '20161004'\n",
       "(0008, 0023) Content Date                        DA: '20160426'\n",
       "(0008, 0030) Study Time                          TM: '133035'\n",
       "(0008, 0033) Content Time                        TM: '132527.646000'\n",
       "(0008, 0050) Accession Number                    SH: ''\n",
       "(0008, 0060) Modality                            CS: 'MG'\n",
       "(0008, 0064) Conversion Type                     CS: 'WSD'\n",
       "(0008, 0090) Referring Physician's Name          PN: ''\n",
       "(0008, 103e) Series Description                  LO: 'full mammogram images'\n",
       "(0010, 0010) Patient's Name                      PN: 'Mass-Test_P_01322_RIGHT_CC'\n",
       "(0010, 0020) Patient ID                          LO: 'Mass-Test_P_01322_RIGHT_CC'\n",
       "(0010, 0030) Patient's Birth Date                DA: ''\n",
       "(0010, 0040) Patient's Sex                       CS: ''\n",
       "(0013, 0010) Private Creator                     LO: 'CTP'\n",
       "(0013, 1010) Private tag data                    UN: b'CBIS-DDSM '\n",
       "(0013, 1013) Private tag data                    UN: b'43372602'\n",
       "(0018, 0015) Body Part Examined                  CS: 'BREAST'\n",
       "(0018, 1016) Secondary Capture Device Manufactur LO: 'MathWorks'\n",
       "(0018, 1018) Secondary Capture Device Manufactur LO: 'MATLAB'\n",
       "(0020, 000d) Study Instance UID                  UI: 1.3.6.1.4.1.9590.100.1.2.52707006411534546102445694840838017243\n",
       "(0020, 000e) Series Instance UID                 UI: 1.3.6.1.4.1.9590.100.1.2.110761936610289988725412322881302135556\n",
       "(0020, 0010) Study ID                            SH: 'DDSM'\n",
       "(0020, 0011) Series Number                       IS: '1'\n",
       "(0020, 0013) Instance Number                     IS: '1'\n",
       "(0020, 0020) Patient Orientation                 CS: 'CC'\n",
       "(0020, 0060) Laterality                          CS: 'R'\n",
       "(0028, 0002) Samples per Pixel                   US: 1\n",
       "(0028, 0004) Photometric Interpretation          CS: 'MONOCHROME2'\n",
       "(0028, 0010) Rows                                US: 5401\n",
       "(0028, 0011) Columns                             US: 2941\n",
       "(0028, 0100) Bits Allocated                      US: 16\n",
       "(0028, 0101) Bits Stored                         US: 16\n",
       "(0028, 0102) High Bit                            US: 15\n",
       "(0028, 0103) Pixel Representation                US: 0\n",
       "(0028, 0106) Smallest Image Pixel Value          US: 0\n",
       "(0028, 0107) Largest Image Pixel Value           US: 65535\n",
       "(7fe0, 0010) Pixel Data                          OW: Array of 31768682 elements"
      ]
     },
     "execution_count": 18,
     "metadata": {},
     "output_type": "execute_result"
    }
   ],
   "source": [
    "mammo_cont=pydicom.dcmread(dicom_path)\n",
    "mammo_cont"
   ]
  },
  {
   "cell_type": "code",
   "execution_count": 19,
   "id": "82be31fe",
   "metadata": {},
   "outputs": [],
   "source": [
    "imagen=mammo_cont.pixel_array"
   ]
  },
  {
   "cell_type": "code",
   "execution_count": 20,
   "id": "82d86496",
   "metadata": {},
   "outputs": [
    {
     "data": {
      "text/plain": [
       "array([[65535,     0, 65535, ..., 52010, 52094, 52052],\n",
       "       [65535, 65535, 65535, ..., 51968, 52178, 52115],\n",
       "       [65535, 65535, 65535, ..., 51989, 52073, 52052],\n",
       "       ...,\n",
       "       [65535, 65535, 65535, ..., 65535, 65535, 65535],\n",
       "       [65535, 65535, 65535, ..., 65535, 65535, 65535],\n",
       "       [65535, 65535, 65535, ..., 65535, 65535, 65535]], dtype=uint16)"
      ]
     },
     "execution_count": 20,
     "metadata": {},
     "output_type": "execute_result"
    }
   ],
   "source": [
    "imagen"
   ]
  },
  {
   "cell_type": "code",
   "execution_count": 21,
   "id": "475939c2",
   "metadata": {},
   "outputs": [],
   "source": [
    "ret,thresh= cv2.threshold(imagen,0,255,cv2.THRESH_BINARY_INV+cv2.THRESH_OTSU)"
   ]
  },
  {
   "cell_type": "code",
   "execution_count": 22,
   "id": "e7630e24",
   "metadata": {},
   "outputs": [
    {
     "data": {
      "text/plain": [
       "<matplotlib.image.AxesImage at 0x148a93df0>"
      ]
     },
     "execution_count": 22,
     "metadata": {},
     "output_type": "execute_result"
    },
    {
     "data": {
      "image/png": "[encoded data removed]",
      "text/plain": [
       "<Figure size 640x480 with 1 Axes>"
      ]
     },
     "metadata": {},
     "output_type": "display_data"
    }
   ],
   "source": [
    "plt.imshow(thresh, cmap='gray')"
   ]
  },
  {
   "cell_type": "code",
   "execution_count": null,
   "id": "ee528605",
   "metadata": {},
   "outputs": [],
   "source": []
  }
 ],
 "metadata": {
  "kernelspec": {
   "display_name": "Python [conda env:breast_cnn] *",
   "language": "python",
   "name": "conda-env-breast_cnn-py"
  },
  "language_info": {
   "codemirror_mode": {
    "name": "ipython",
    "version": 3
   },
   "file_extension": ".py",
   "mimetype": "text/x-python",
   "name": "python",
   "nbconvert_exporter": "python",
   "pygments_lexer": "ipython3",
   "version": "3.9.13"
  }
 },
 "nbformat": 4,
 "nbformat_minor": 5
}
